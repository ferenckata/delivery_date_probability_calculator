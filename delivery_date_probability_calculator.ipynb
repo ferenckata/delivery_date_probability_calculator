{
 "cells": [
  {
   "cell_type": "markdown",
   "id": "a9924804",
   "metadata": {},
   "source": [
    "This notebook is to calculate the probability that birth will happen on a specific day, given that it has not happened until that day.\n",
    "\n",
    "Base probabilities are estimated from the statistics shown on Figure 1a of Okland et al, 2011 (DOI: 10.1002/uog.7728) fitted with Weibull distribution.\n",
    "\n",
    "The idea is that by each day passing without birth, the next days' probabilities of giving birth are re-estimated using conditional probability. For each day, the probability of giving birth on that day if not before is returned."
   ]
  },
  {
   "cell_type": "code",
   "execution_count": 123,
   "id": "3db457a4",
   "metadata": {
    "collapsed": true
   },
   "outputs": [
    {
     "name": "stderr",
     "output_type": "stream",
     "text": [
      "\u001b[32m\u001b[1m   Resolving\u001b[22m\u001b[39m package versions...\n",
      "\u001b[32m\u001b[1m  No Changes\u001b[22m\u001b[39m to `~/.julia/environments/v1.9/Project.toml`\n",
      "\u001b[32m\u001b[1m  No Changes\u001b[22m\u001b[39m to `~/.julia/environments/v1.9/Manifest.toml`\n",
      "\u001b[32m\u001b[1m   Resolving\u001b[22m\u001b[39m package versions...\n",
      "\u001b[32m\u001b[1m  No Changes\u001b[22m\u001b[39m to `~/.julia/environments/v1.9/Project.toml`\n",
      "\u001b[32m\u001b[1m  No Changes\u001b[22m\u001b[39m to `~/.julia/environments/v1.9/Manifest.toml`\n",
      "\u001b[32m\u001b[1m   Resolving\u001b[22m\u001b[39m package versions...\n",
      "\u001b[32m\u001b[1m    Updating\u001b[22m\u001b[39m `~/.julia/environments/v1.9/Project.toml`\n",
      "  \u001b[90m[2913bbd2] \u001b[39m\u001b[92m+ StatsBase v0.34.0\u001b[39m\n",
      "\u001b[32m\u001b[1m  No Changes\u001b[22m\u001b[39m to `~/.julia/environments/v1.9/Manifest.toml`\n"
     ]
    }
   ],
   "source": [
    "import Pkg\n",
    "Pkg.add(\"Distributions\")\n",
    "Pkg.add(\"Plots\")\n",
    "Pkg.add(\"StatsBase\")\n",
    "using Distributions\n",
    "using Plots\n",
    "using StatsBase"
   ]
  },
  {
   "cell_type": "markdown",
   "id": "5654a838",
   "metadata": {},
   "source": [
    "Figure 1a from Okland et al, 2011\n",
    "![Image](original_due_delivery.png)"
   ]
  },
  {
   "cell_type": "code",
   "execution_count": 117,
   "id": "12350cc0",
   "metadata": {},
   "outputs": [
    {
     "data": {
      "text/plain": [
       "MixtureModel{Distribution{Univariate, Continuous}}(K = 4)\n",
       "components[1] (prior = 0.1000): Normal{Float64}(μ=22.0, σ=10.0)\n",
       "components[2] (prior = 0.1000): Normal{Float64}(μ=30.0, σ=5.0)\n",
       "components[3] (prior = 0.7000): Weibull{Float64}(α=10.0, θ=42.0)\n",
       "components[4] (prior = 0.1000): Normal{Float64}(μ=50.0, σ=1.75)\n"
      ]
     },
     "execution_count": 117,
     "metadata": {},
     "output_type": "execute_result"
    }
   ],
   "source": [
    "my_model = MixtureModel([\n",
    "        Normal(22, 10),\n",
    "        Normal(30, 5),\n",
    "        Weibull(10, 42),\n",
    "        Normal(50, 1.75)],\n",
    "    [0.1, 0.1, 0.7,  0.1])"
   ]
  },
  {
   "cell_type": "code",
   "execution_count": 118,
   "id": "eb95c2d3",
   "metadata": {},
   "outputs": [],
   "source": [
    "Random.seed!(123);\n",
    "datapoints = rand(my_model, 10000);"
   ]
  },
  {
   "cell_type": "code",
   "execution_count": 119,
   "id": "bb157dc4",
   "metadata": {},
   "outputs": [
    {
     "data": {
      "image/svg+xml": [
       "<?xml version=\"1.0\" encoding=\"utf-8\"?>\n",
       "<svg xmlns=\"http://www.w3.org/2000/svg\" xmlns:xlink=\"http://www.w3.org/1999/xlink\" width=\"600\" height=\"400\" viewBox=\"0 0 2400 1600\">\n",
       "<defs>\n",
       "  <clipPath id=\"clip260\">\n",
       "    <rect x=\"0\" y=\"0\" width=\"2400\" height=\"1600\"/>\n",
       "  </clipPath>\n",
       "</defs>\n",
       "<path clip-path=\"url(#clip260)\" d=\"M0 1600 L2400 1600 L2400 0 L0 0  Z\" fill=\"#ffffff\" fill-rule=\"evenodd\" fill-opacity=\"1\"/>\n",
       "<defs>\n",
       "  <clipPath id=\"clip261\">\n",
       "    <rect x=\"480\" y=\"0\" width=\"1681\" height=\"1600\"/>\n",
       "  </clipPath>\n",
       "</defs>\n",
       "<path clip-path=\"url(#clip260)\" d=\"M172.015 1486.45 L2352.76 1486.45 L2352.76 47.2441 L172.015 47.2441  Z\" fill=\"#ffffff\" fill-rule=\"evenodd\" fill-opacity=\"1\"/>\n",
       "<defs>\n",
       "  <clipPath id=\"clip262\">\n",
       "    <rect x=\"172\" y=\"47\" width=\"2182\" height=\"1440\"/>\n",
       "  </clipPath>\n",
       "</defs>\n",
       "<polyline clip-path=\"url(#clip262)\" style=\"stroke:#000000; stroke-linecap:round; stroke-linejoin:round; stroke-width:2; stroke-opacity:0.1; fill:none\" points=\"577.379,1486.45 577.379,47.2441 \"/>\n",
       "<polyline clip-path=\"url(#clip262)\" style=\"stroke:#000000; stroke-linecap:round; stroke-linejoin:round; stroke-width:2; stroke-opacity:0.1; fill:none\" points=\"1148.22,1486.45 1148.22,47.2441 \"/>\n",
       "<polyline clip-path=\"url(#clip262)\" style=\"stroke:#000000; stroke-linecap:round; stroke-linejoin:round; stroke-width:2; stroke-opacity:0.1; fill:none\" points=\"1719.06,1486.45 1719.06,47.2441 \"/>\n",
       "<polyline clip-path=\"url(#clip262)\" style=\"stroke:#000000; stroke-linecap:round; stroke-linejoin:round; stroke-width:2; stroke-opacity:0.1; fill:none\" points=\"2289.9,1486.45 2289.9,47.2441 \"/>\n",
       "<polyline clip-path=\"url(#clip260)\" style=\"stroke:#000000; stroke-linecap:round; stroke-linejoin:round; stroke-width:4; stroke-opacity:1; fill:none\" points=\"172.015,1486.45 2352.76,1486.45 \"/>\n",
       "<polyline clip-path=\"url(#clip260)\" style=\"stroke:#000000; stroke-linecap:round; stroke-linejoin:round; stroke-width:4; stroke-opacity:1; fill:none\" points=\"577.379,1486.45 577.379,1467.55 \"/>\n",
       "<polyline clip-path=\"url(#clip260)\" style=\"stroke:#000000; stroke-linecap:round; stroke-linejoin:round; stroke-width:4; stroke-opacity:1; fill:none\" points=\"1148.22,1486.45 1148.22,1467.55 \"/>\n",
       "<polyline clip-path=\"url(#clip260)\" style=\"stroke:#000000; stroke-linecap:round; stroke-linejoin:round; stroke-width:4; stroke-opacity:1; fill:none\" points=\"1719.06,1486.45 1719.06,1467.55 \"/>\n",
       "<polyline clip-path=\"url(#clip260)\" style=\"stroke:#000000; stroke-linecap:round; stroke-linejoin:round; stroke-width:4; stroke-opacity:1; fill:none\" points=\"2289.9,1486.45 2289.9,1467.55 \"/>\n",
       "<path clip-path=\"url(#clip260)\" d=\"M577.379 1517.37 Q573.768 1517.37 571.939 1520.93 Q570.134 1524.47 570.134 1531.6 Q570.134 1538.71 571.939 1542.27 Q573.768 1545.82 577.379 1545.82 Q581.013 1545.82 582.819 1542.27 Q584.647 1538.71 584.647 1531.6 Q584.647 1524.47 582.819 1520.93 Q581.013 1517.37 577.379 1517.37 M577.379 1513.66 Q583.189 1513.66 586.245 1518.27 Q589.323 1522.85 589.323 1531.6 Q589.323 1540.33 586.245 1544.94 Q583.189 1549.52 577.379 1549.52 Q571.569 1549.52 568.49 1544.94 Q565.434 1540.33 565.434 1531.6 Q565.434 1522.85 568.49 1518.27 Q571.569 1513.66 577.379 1513.66 Z\" fill=\"#000000\" fill-rule=\"nonzero\" fill-opacity=\"1\" /><path clip-path=\"url(#clip260)\" d=\"M1126.99 1544.91 L1143.31 1544.91 L1143.31 1548.85 L1121.37 1548.85 L1121.37 1544.91 Q1124.03 1542.16 1128.61 1537.53 Q1133.22 1532.88 1134.4 1531.53 Q1136.64 1529.01 1137.52 1527.27 Q1138.43 1525.51 1138.43 1523.82 Q1138.43 1521.07 1136.48 1519.33 Q1134.56 1517.6 1131.46 1517.6 Q1129.26 1517.6 1126.81 1518.36 Q1124.38 1519.13 1121.6 1520.68 L1121.6 1515.95 Q1124.42 1514.82 1126.88 1514.24 Q1129.33 1513.66 1131.37 1513.66 Q1136.74 1513.66 1139.93 1516.35 Q1143.13 1519.03 1143.13 1523.52 Q1143.13 1525.65 1142.31 1527.57 Q1141.53 1529.47 1139.42 1532.07 Q1138.84 1532.74 1135.74 1535.95 Q1132.64 1539.15 1126.99 1544.91 Z\" fill=\"#000000\" fill-rule=\"nonzero\" fill-opacity=\"1\" /><path clip-path=\"url(#clip260)\" d=\"M1163.12 1517.37 Q1159.51 1517.37 1157.69 1520.93 Q1155.88 1524.47 1155.88 1531.6 Q1155.88 1538.71 1157.69 1542.27 Q1159.51 1545.82 1163.12 1545.82 Q1166.76 1545.82 1168.56 1542.27 Q1170.39 1538.71 1170.39 1531.6 Q1170.39 1524.47 1168.56 1520.93 Q1166.76 1517.37 1163.12 1517.37 M1163.12 1513.66 Q1168.94 1513.66 1171.99 1518.27 Q1175.07 1522.85 1175.07 1531.6 Q1175.07 1540.33 1171.99 1544.94 Q1168.94 1549.52 1163.12 1549.52 Q1157.31 1549.52 1154.24 1544.94 Q1151.18 1540.33 1151.18 1531.6 Q1151.18 1522.85 1154.24 1518.27 Q1157.31 1513.66 1163.12 1513.66 Z\" fill=\"#000000\" fill-rule=\"nonzero\" fill-opacity=\"1\" /><path clip-path=\"url(#clip260)\" d=\"M1707.23 1518.36 L1695.42 1536.81 L1707.23 1536.81 L1707.23 1518.36 M1706 1514.29 L1711.88 1514.29 L1711.88 1536.81 L1716.81 1536.81 L1716.81 1540.7 L1711.88 1540.7 L1711.88 1548.85 L1707.23 1548.85 L1707.23 1540.7 L1691.63 1540.7 L1691.63 1536.19 L1706 1514.29 Z\" fill=\"#000000\" fill-rule=\"nonzero\" fill-opacity=\"1\" /><path clip-path=\"url(#clip260)\" d=\"M1734.54 1517.37 Q1730.93 1517.37 1729.1 1520.93 Q1727.3 1524.47 1727.3 1531.6 Q1727.3 1538.71 1729.1 1542.27 Q1730.93 1545.82 1734.54 1545.82 Q1738.18 1545.82 1739.98 1542.27 Q1741.81 1538.71 1741.81 1531.6 Q1741.81 1524.47 1739.98 1520.93 Q1738.18 1517.37 1734.54 1517.37 M1734.54 1513.66 Q1740.35 1513.66 1743.41 1518.27 Q1746.49 1522.85 1746.49 1531.6 Q1746.49 1540.33 1743.41 1544.94 Q1740.35 1549.52 1734.54 1549.52 Q1728.73 1549.52 1725.65 1544.94 Q1722.6 1540.33 1722.6 1531.6 Q1722.6 1522.85 1725.65 1518.27 Q1728.73 1513.66 1734.54 1513.66 Z\" fill=\"#000000\" fill-rule=\"nonzero\" fill-opacity=\"1\" /><path clip-path=\"url(#clip260)\" d=\"M2275.3 1529.7 Q2272.15 1529.7 2270.3 1531.86 Q2268.47 1534.01 2268.47 1537.76 Q2268.47 1541.49 2270.3 1543.66 Q2272.15 1545.82 2275.3 1545.82 Q2278.45 1545.82 2280.28 1543.66 Q2282.13 1541.49 2282.13 1537.76 Q2282.13 1534.01 2280.28 1531.86 Q2278.45 1529.7 2275.3 1529.7 M2284.58 1515.05 L2284.58 1519.31 Q2282.82 1518.48 2281.02 1518.04 Q2279.24 1517.6 2277.48 1517.6 Q2272.85 1517.6 2270.39 1520.72 Q2267.96 1523.85 2267.62 1530.17 Q2268.98 1528.15 2271.04 1527.09 Q2273.1 1526 2275.58 1526 Q2280.79 1526 2283.8 1529.17 Q2286.83 1532.32 2286.83 1537.76 Q2286.83 1543.08 2283.68 1546.3 Q2280.53 1549.52 2275.3 1549.52 Q2269.3 1549.52 2266.13 1544.94 Q2262.96 1540.33 2262.96 1531.6 Q2262.96 1523.41 2266.85 1518.55 Q2270.74 1513.66 2277.29 1513.66 Q2279.05 1513.66 2280.83 1514.01 Q2282.64 1514.36 2284.58 1515.05 Z\" fill=\"#000000\" fill-rule=\"nonzero\" fill-opacity=\"1\" /><path clip-path=\"url(#clip260)\" d=\"M2304.88 1517.37 Q2301.27 1517.37 2299.44 1520.93 Q2297.64 1524.47 2297.64 1531.6 Q2297.64 1538.71 2299.44 1542.27 Q2301.27 1545.82 2304.88 1545.82 Q2308.52 1545.82 2310.32 1542.27 Q2312.15 1538.71 2312.15 1531.6 Q2312.15 1524.47 2310.32 1520.93 Q2308.52 1517.37 2304.88 1517.37 M2304.88 1513.66 Q2310.69 1513.66 2313.75 1518.27 Q2316.83 1522.85 2316.83 1531.6 Q2316.83 1540.33 2313.75 1544.94 Q2310.69 1549.52 2304.88 1549.52 Q2299.07 1549.52 2295.99 1544.94 Q2292.94 1540.33 2292.94 1531.6 Q2292.94 1522.85 2295.99 1518.27 Q2299.07 1513.66 2304.88 1513.66 Z\" fill=\"#000000\" fill-rule=\"nonzero\" fill-opacity=\"1\" /><polyline clip-path=\"url(#clip262)\" style=\"stroke:#000000; stroke-linecap:round; stroke-linejoin:round; stroke-width:2; stroke-opacity:0.1; fill:none\" points=\"172.015,1486.45 2352.76,1486.45 \"/>\n",
       "<polyline clip-path=\"url(#clip262)\" style=\"stroke:#000000; stroke-linecap:round; stroke-linejoin:round; stroke-width:2; stroke-opacity:0.1; fill:none\" points=\"172.015,1255.81 2352.76,1255.81 \"/>\n",
       "<polyline clip-path=\"url(#clip262)\" style=\"stroke:#000000; stroke-linecap:round; stroke-linejoin:round; stroke-width:2; stroke-opacity:0.1; fill:none\" points=\"172.015,1025.16 2352.76,1025.16 \"/>\n",
       "<polyline clip-path=\"url(#clip262)\" style=\"stroke:#000000; stroke-linecap:round; stroke-linejoin:round; stroke-width:2; stroke-opacity:0.1; fill:none\" points=\"172.015,794.523 2352.76,794.523 \"/>\n",
       "<polyline clip-path=\"url(#clip262)\" style=\"stroke:#000000; stroke-linecap:round; stroke-linejoin:round; stroke-width:2; stroke-opacity:0.1; fill:none\" points=\"172.015,563.881 2352.76,563.881 \"/>\n",
       "<polyline clip-path=\"url(#clip262)\" style=\"stroke:#000000; stroke-linecap:round; stroke-linejoin:round; stroke-width:2; stroke-opacity:0.1; fill:none\" points=\"172.015,333.24 2352.76,333.24 \"/>\n",
       "<polyline clip-path=\"url(#clip262)\" style=\"stroke:#000000; stroke-linecap:round; stroke-linejoin:round; stroke-width:2; stroke-opacity:0.1; fill:none\" points=\"172.015,102.598 2352.76,102.598 \"/>\n",
       "<polyline clip-path=\"url(#clip260)\" style=\"stroke:#000000; stroke-linecap:round; stroke-linejoin:round; stroke-width:4; stroke-opacity:1; fill:none\" points=\"172.015,1486.45 172.015,47.2441 \"/>\n",
       "<polyline clip-path=\"url(#clip260)\" style=\"stroke:#000000; stroke-linecap:round; stroke-linejoin:round; stroke-width:4; stroke-opacity:1; fill:none\" points=\"172.015,1486.45 190.912,1486.45 \"/>\n",
       "<polyline clip-path=\"url(#clip260)\" style=\"stroke:#000000; stroke-linecap:round; stroke-linejoin:round; stroke-width:4; stroke-opacity:1; fill:none\" points=\"172.015,1255.81 190.912,1255.81 \"/>\n",
       "<polyline clip-path=\"url(#clip260)\" style=\"stroke:#000000; stroke-linecap:round; stroke-linejoin:round; stroke-width:4; stroke-opacity:1; fill:none\" points=\"172.015,1025.16 190.912,1025.16 \"/>\n",
       "<polyline clip-path=\"url(#clip260)\" style=\"stroke:#000000; stroke-linecap:round; stroke-linejoin:round; stroke-width:4; stroke-opacity:1; fill:none\" points=\"172.015,794.523 190.912,794.523 \"/>\n",
       "<polyline clip-path=\"url(#clip260)\" style=\"stroke:#000000; stroke-linecap:round; stroke-linejoin:round; stroke-width:4; stroke-opacity:1; fill:none\" points=\"172.015,563.881 190.912,563.881 \"/>\n",
       "<polyline clip-path=\"url(#clip260)\" style=\"stroke:#000000; stroke-linecap:round; stroke-linejoin:round; stroke-width:4; stroke-opacity:1; fill:none\" points=\"172.015,333.24 190.912,333.24 \"/>\n",
       "<polyline clip-path=\"url(#clip260)\" style=\"stroke:#000000; stroke-linecap:round; stroke-linejoin:round; stroke-width:4; stroke-opacity:1; fill:none\" points=\"172.015,102.598 190.912,102.598 \"/>\n",
       "<path clip-path=\"url(#clip260)\" d=\"M124.07 1472.25 Q120.459 1472.25 118.631 1475.81 Q116.825 1479.35 116.825 1486.48 Q116.825 1493.59 118.631 1497.15 Q120.459 1500.7 124.07 1500.7 Q127.705 1500.7 129.51 1497.15 Q131.339 1493.59 131.339 1486.48 Q131.339 1479.35 129.51 1475.81 Q127.705 1472.25 124.07 1472.25 M124.07 1468.54 Q129.881 1468.54 132.936 1473.15 Q136.015 1477.73 136.015 1486.48 Q136.015 1495.21 132.936 1499.82 Q129.881 1504.4 124.07 1504.4 Q118.26 1504.4 115.182 1499.82 Q112.126 1495.21 112.126 1486.48 Q112.126 1477.73 115.182 1473.15 Q118.26 1468.54 124.07 1468.54 Z\" fill=\"#000000\" fill-rule=\"nonzero\" fill-opacity=\"1\" /><path clip-path=\"url(#clip260)\" d=\"M54.5569 1269.15 L62.1958 1269.15 L62.1958 1242.79 L53.8856 1244.45 L53.8856 1240.19 L62.1495 1238.53 L66.8254 1238.53 L66.8254 1269.15 L74.4642 1269.15 L74.4642 1273.09 L54.5569 1273.09 L54.5569 1269.15 Z\" fill=\"#000000\" fill-rule=\"nonzero\" fill-opacity=\"1\" /><path clip-path=\"url(#clip260)\" d=\"M93.9086 1241.6 Q90.2975 1241.6 88.4688 1245.17 Q86.6632 1248.71 86.6632 1255.84 Q86.6632 1262.95 88.4688 1266.51 Q90.2975 1270.05 93.9086 1270.05 Q97.5428 1270.05 99.3483 1266.51 Q101.177 1262.95 101.177 1255.84 Q101.177 1248.71 99.3483 1245.17 Q97.5428 1241.6 93.9086 1241.6 M93.9086 1237.9 Q99.7187 1237.9 102.774 1242.51 Q105.853 1247.09 105.853 1255.84 Q105.853 1264.57 102.774 1269.17 Q99.7187 1273.76 93.9086 1273.76 Q88.0984 1273.76 85.0197 1269.17 Q81.9642 1264.57 81.9642 1255.84 Q81.9642 1247.09 85.0197 1242.51 Q88.0984 1237.9 93.9086 1237.9 Z\" fill=\"#000000\" fill-rule=\"nonzero\" fill-opacity=\"1\" /><path clip-path=\"url(#clip260)\" d=\"M124.07 1241.6 Q120.459 1241.6 118.631 1245.17 Q116.825 1248.71 116.825 1255.84 Q116.825 1262.95 118.631 1266.51 Q120.459 1270.05 124.07 1270.05 Q127.705 1270.05 129.51 1266.51 Q131.339 1262.95 131.339 1255.84 Q131.339 1248.71 129.51 1245.17 Q127.705 1241.6 124.07 1241.6 M124.07 1237.9 Q129.881 1237.9 132.936 1242.51 Q136.015 1247.09 136.015 1255.84 Q136.015 1264.57 132.936 1269.17 Q129.881 1273.76 124.07 1273.76 Q118.26 1273.76 115.182 1269.17 Q112.126 1264.57 112.126 1255.84 Q112.126 1247.09 115.182 1242.51 Q118.26 1237.9 124.07 1237.9 Z\" fill=\"#000000\" fill-rule=\"nonzero\" fill-opacity=\"1\" /><path clip-path=\"url(#clip260)\" d=\"M57.7745 1038.51 L74.0939 1038.51 L74.0939 1042.44 L52.1495 1042.44 L52.1495 1038.51 Q54.8115 1035.75 59.3949 1031.13 Q64.0013 1026.47 65.1819 1025.13 Q67.4272 1022.61 68.3068 1020.87 Q69.2096 1019.11 69.2096 1017.42 Q69.2096 1014.67 67.2652 1012.93 Q65.3439 1011.19 62.2421 1011.19 Q60.043 1011.19 57.5893 1011.96 Q55.1588 1012.72 52.381 1014.27 L52.381 1009.55 Q55.2051 1008.42 57.6588 1007.84 Q60.1124 1007.26 62.1495 1007.26 Q67.5198 1007.26 70.7142 1009.94 Q73.9087 1012.63 73.9087 1017.12 Q73.9087 1019.25 73.0985 1021.17 Q72.3115 1023.07 70.205 1025.66 Q69.6263 1026.33 66.5245 1029.55 Q63.4226 1032.75 57.7745 1038.51 Z\" fill=\"#000000\" fill-rule=\"nonzero\" fill-opacity=\"1\" /><path clip-path=\"url(#clip260)\" d=\"M93.9086 1010.96 Q90.2975 1010.96 88.4688 1014.53 Q86.6632 1018.07 86.6632 1025.2 Q86.6632 1032.31 88.4688 1035.87 Q90.2975 1039.41 93.9086 1039.41 Q97.5428 1039.41 99.3483 1035.87 Q101.177 1032.31 101.177 1025.2 Q101.177 1018.07 99.3483 1014.53 Q97.5428 1010.96 93.9086 1010.96 M93.9086 1007.26 Q99.7187 1007.26 102.774 1011.87 Q105.853 1016.45 105.853 1025.2 Q105.853 1033.93 102.774 1038.53 Q99.7187 1043.12 93.9086 1043.12 Q88.0984 1043.12 85.0197 1038.53 Q81.9642 1033.93 81.9642 1025.2 Q81.9642 1016.45 85.0197 1011.87 Q88.0984 1007.26 93.9086 1007.26 Z\" fill=\"#000000\" fill-rule=\"nonzero\" fill-opacity=\"1\" /><path clip-path=\"url(#clip260)\" d=\"M124.07 1010.96 Q120.459 1010.96 118.631 1014.53 Q116.825 1018.07 116.825 1025.2 Q116.825 1032.31 118.631 1035.87 Q120.459 1039.41 124.07 1039.41 Q127.705 1039.41 129.51 1035.87 Q131.339 1032.31 131.339 1025.2 Q131.339 1018.07 129.51 1014.53 Q127.705 1010.96 124.07 1010.96 M124.07 1007.26 Q129.881 1007.26 132.936 1011.87 Q136.015 1016.45 136.015 1025.2 Q136.015 1033.93 132.936 1038.53 Q129.881 1043.12 124.07 1043.12 Q118.26 1043.12 115.182 1038.53 Q112.126 1033.93 112.126 1025.2 Q112.126 1016.45 115.182 1011.87 Q118.26 1007.26 124.07 1007.26 Z\" fill=\"#000000\" fill-rule=\"nonzero\" fill-opacity=\"1\" /><path clip-path=\"url(#clip260)\" d=\"M67.9133 793.169 Q71.2698 793.886 73.1448 796.155 Q75.0429 798.423 75.0429 801.757 Q75.0429 806.872 71.5244 809.673 Q68.0059 812.474 61.5245 812.474 Q59.3486 812.474 57.0338 812.034 Q54.7421 811.618 52.2884 810.761 L52.2884 806.247 Q54.2328 807.382 56.5477 807.96 Q58.8625 808.539 61.3856 808.539 Q65.7837 808.539 68.0754 806.803 Q70.3902 805.067 70.3902 801.757 Q70.3902 798.701 68.2374 796.988 Q66.1078 795.252 62.2884 795.252 L58.2606 795.252 L58.2606 791.41 L62.4735 791.41 Q65.9226 791.41 67.7513 790.044 Q69.58 788.655 69.58 786.062 Q69.58 783.4 67.6819 781.988 Q65.8069 780.553 62.2884 780.553 Q60.3671 780.553 58.168 780.97 Q55.969 781.386 53.3301 782.266 L53.3301 778.099 Q55.9921 777.359 58.3069 776.988 Q60.6449 776.618 62.705 776.618 Q68.0291 776.618 71.1309 779.049 Q74.2327 781.456 74.2327 785.576 Q74.2327 788.447 72.5892 790.437 Q70.9457 792.405 67.9133 793.169 Z\" fill=\"#000000\" fill-rule=\"nonzero\" fill-opacity=\"1\" /><path clip-path=\"url(#clip260)\" d=\"M93.9086 780.322 Q90.2975 780.322 88.4688 783.886 Q86.6632 787.428 86.6632 794.558 Q86.6632 801.664 88.4688 805.229 Q90.2975 808.771 93.9086 808.771 Q97.5428 808.771 99.3483 805.229 Q101.177 801.664 101.177 794.558 Q101.177 787.428 99.3483 783.886 Q97.5428 780.322 93.9086 780.322 M93.9086 776.618 Q99.7187 776.618 102.774 781.224 Q105.853 785.808 105.853 794.558 Q105.853 803.285 102.774 807.891 Q99.7187 812.474 93.9086 812.474 Q88.0984 812.474 85.0197 807.891 Q81.9642 803.285 81.9642 794.558 Q81.9642 785.808 85.0197 781.224 Q88.0984 776.618 93.9086 776.618 Z\" fill=\"#000000\" fill-rule=\"nonzero\" fill-opacity=\"1\" /><path clip-path=\"url(#clip260)\" d=\"M124.07 780.322 Q120.459 780.322 118.631 783.886 Q116.825 787.428 116.825 794.558 Q116.825 801.664 118.631 805.229 Q120.459 808.771 124.07 808.771 Q127.705 808.771 129.51 805.229 Q131.339 801.664 131.339 794.558 Q131.339 787.428 129.51 783.886 Q127.705 780.322 124.07 780.322 M124.07 776.618 Q129.881 776.618 132.936 781.224 Q136.015 785.808 136.015 794.558 Q136.015 803.285 132.936 807.891 Q129.881 812.474 124.07 812.474 Q118.26 812.474 115.182 807.891 Q112.126 803.285 112.126 794.558 Q112.126 785.808 115.182 781.224 Q118.26 776.618 124.07 776.618 Z\" fill=\"#000000\" fill-rule=\"nonzero\" fill-opacity=\"1\" /><path clip-path=\"url(#clip260)\" d=\"M66.5939 550.675 L54.7884 569.124 L66.5939 569.124 L66.5939 550.675 M65.367 546.601 L71.2466 546.601 L71.2466 569.124 L76.1772 569.124 L76.1772 573.013 L71.2466 573.013 L71.2466 581.161 L66.5939 581.161 L66.5939 573.013 L50.9921 573.013 L50.9921 568.499 L65.367 546.601 Z\" fill=\"#000000\" fill-rule=\"nonzero\" fill-opacity=\"1\" /><path clip-path=\"url(#clip260)\" d=\"M93.9086 549.68 Q90.2975 549.68 88.4688 553.245 Q86.6632 556.786 86.6632 563.916 Q86.6632 571.023 88.4688 574.587 Q90.2975 578.129 93.9086 578.129 Q97.5428 578.129 99.3483 574.587 Q101.177 571.023 101.177 563.916 Q101.177 556.786 99.3483 553.245 Q97.5428 549.68 93.9086 549.68 M93.9086 545.976 Q99.7187 545.976 102.774 550.583 Q105.853 555.166 105.853 563.916 Q105.853 572.643 102.774 577.249 Q99.7187 581.833 93.9086 581.833 Q88.0984 581.833 85.0197 577.249 Q81.9642 572.643 81.9642 563.916 Q81.9642 555.166 85.0197 550.583 Q88.0984 545.976 93.9086 545.976 Z\" fill=\"#000000\" fill-rule=\"nonzero\" fill-opacity=\"1\" /><path clip-path=\"url(#clip260)\" d=\"M124.07 549.68 Q120.459 549.68 118.631 553.245 Q116.825 556.786 116.825 563.916 Q116.825 571.023 118.631 574.587 Q120.459 578.129 124.07 578.129 Q127.705 578.129 129.51 574.587 Q131.339 571.023 131.339 563.916 Q131.339 556.786 129.51 553.245 Q127.705 549.68 124.07 549.68 M124.07 545.976 Q129.881 545.976 132.936 550.583 Q136.015 555.166 136.015 563.916 Q136.015 572.643 132.936 577.249 Q129.881 581.833 124.07 581.833 Q118.26 581.833 115.182 577.249 Q112.126 572.643 112.126 563.916 Q112.126 555.166 115.182 550.583 Q118.26 545.976 124.07 545.976 Z\" fill=\"#000000\" fill-rule=\"nonzero\" fill-opacity=\"1\" /><path clip-path=\"url(#clip260)\" d=\"M53.793 315.96 L72.1494 315.96 L72.1494 319.895 L58.0754 319.895 L58.0754 328.367 Q59.0939 328.02 60.1124 327.858 Q61.131 327.673 62.1495 327.673 Q67.9365 327.673 71.3161 330.844 Q74.6957 334.015 74.6957 339.432 Q74.6957 345.01 71.2235 348.112 Q67.7513 351.191 61.4319 351.191 Q59.256 351.191 56.9875 350.821 Q54.7421 350.45 52.3347 349.71 L52.3347 345.01 Q54.418 346.145 56.6402 346.7 Q58.8625 347.256 61.3393 347.256 Q65.3439 347.256 67.6819 345.149 Q70.0198 343.043 70.0198 339.432 Q70.0198 335.821 67.6819 333.714 Q65.3439 331.608 61.3393 331.608 Q59.4643 331.608 57.5893 332.024 Q55.7375 332.441 53.793 333.321 L53.793 315.96 Z\" fill=\"#000000\" fill-rule=\"nonzero\" fill-opacity=\"1\" /><path clip-path=\"url(#clip260)\" d=\"M93.9086 319.038 Q90.2975 319.038 88.4688 322.603 Q86.6632 326.145 86.6632 333.274 Q86.6632 340.381 88.4688 343.946 Q90.2975 347.487 93.9086 347.487 Q97.5428 347.487 99.3483 343.946 Q101.177 340.381 101.177 333.274 Q101.177 326.145 99.3483 322.603 Q97.5428 319.038 93.9086 319.038 M93.9086 315.335 Q99.7187 315.335 102.774 319.941 Q105.853 324.524 105.853 333.274 Q105.853 342.001 102.774 346.608 Q99.7187 351.191 93.9086 351.191 Q88.0984 351.191 85.0197 346.608 Q81.9642 342.001 81.9642 333.274 Q81.9642 324.524 85.0197 319.941 Q88.0984 315.335 93.9086 315.335 Z\" fill=\"#000000\" fill-rule=\"nonzero\" fill-opacity=\"1\" /><path clip-path=\"url(#clip260)\" d=\"M124.07 319.038 Q120.459 319.038 118.631 322.603 Q116.825 326.145 116.825 333.274 Q116.825 340.381 118.631 343.946 Q120.459 347.487 124.07 347.487 Q127.705 347.487 129.51 343.946 Q131.339 340.381 131.339 333.274 Q131.339 326.145 129.51 322.603 Q127.705 319.038 124.07 319.038 M124.07 315.335 Q129.881 315.335 132.936 319.941 Q136.015 324.524 136.015 333.274 Q136.015 342.001 132.936 346.608 Q129.881 351.191 124.07 351.191 Q118.26 351.191 115.182 346.608 Q112.126 342.001 112.126 333.274 Q112.126 324.524 115.182 319.941 Q118.26 315.335 124.07 315.335 Z\" fill=\"#000000\" fill-rule=\"nonzero\" fill-opacity=\"1\" /><path clip-path=\"url(#clip260)\" d=\"M64.3254 100.735 Q61.1773 100.735 59.3254 102.887 Q57.4967 105.04 57.4967 108.79 Q57.4967 112.517 59.3254 114.693 Q61.1773 116.846 64.3254 116.846 Q67.4735 116.846 69.3022 114.693 Q71.1541 112.517 71.1541 108.79 Q71.1541 105.04 69.3022 102.887 Q67.4735 100.735 64.3254 100.735 M73.6077 86.082 L73.6077 90.3412 Q71.8485 89.5079 70.0429 89.0681 Q68.2606 88.6283 66.5013 88.6283 Q61.8717 88.6283 59.418 91.7532 Q56.9875 94.8782 56.6402 101.198 Q58.006 99.1838 60.0662 98.1189 Q62.1263 97.031 64.6032 97.031 Q69.8115 97.031 72.8207 100.202 Q75.8531 103.35 75.8531 108.79 Q75.8531 114.114 72.705 117.332 Q69.5568 120.549 64.3254 120.549 Q58.33 120.549 55.1588 115.966 Q51.9875 111.36 51.9875 102.633 Q51.9875 94.4384 55.8764 89.5773 Q59.7652 84.6931 66.3161 84.6931 Q68.0754 84.6931 69.8578 85.0403 Q71.6633 85.3875 73.6077 86.082 Z\" fill=\"#000000\" fill-rule=\"nonzero\" fill-opacity=\"1\" /><path clip-path=\"url(#clip260)\" d=\"M93.9086 88.3968 Q90.2975 88.3968 88.4688 91.9616 Q86.6632 95.5032 86.6632 102.633 Q86.6632 109.739 88.4688 113.304 Q90.2975 116.846 93.9086 116.846 Q97.5428 116.846 99.3483 113.304 Q101.177 109.739 101.177 102.633 Q101.177 95.5032 99.3483 91.9616 Q97.5428 88.3968 93.9086 88.3968 M93.9086 84.6931 Q99.7187 84.6931 102.774 89.2995 Q105.853 93.8829 105.853 102.633 Q105.853 111.36 102.774 115.966 Q99.7187 120.549 93.9086 120.549 Q88.0984 120.549 85.0197 115.966 Q81.9642 111.36 81.9642 102.633 Q81.9642 93.8829 85.0197 89.2995 Q88.0984 84.6931 93.9086 84.6931 Z\" fill=\"#000000\" fill-rule=\"nonzero\" fill-opacity=\"1\" /><path clip-path=\"url(#clip260)\" d=\"M124.07 88.3968 Q120.459 88.3968 118.631 91.9616 Q116.825 95.5032 116.825 102.633 Q116.825 109.739 118.631 113.304 Q120.459 116.846 124.07 116.846 Q127.705 116.846 129.51 113.304 Q131.339 109.739 131.339 102.633 Q131.339 95.5032 129.51 91.9616 Q127.705 88.3968 124.07 88.3968 M124.07 84.6931 Q129.881 84.6931 132.936 89.2995 Q136.015 93.8829 136.015 102.633 Q136.015 111.36 132.936 115.966 Q129.881 120.549 124.07 120.549 Q118.26 120.549 115.182 115.966 Q112.126 111.36 112.126 102.633 Q112.126 93.8829 115.182 89.2995 Q118.26 84.6931 124.07 84.6931 Z\" fill=\"#000000\" fill-rule=\"nonzero\" fill-opacity=\"1\" /><path clip-path=\"url(#clip262)\" d=\"M291.959 1484.14 L291.959 1486.45 L320.501 1486.45 L320.501 1484.14 L291.959 1484.14 L291.959 1484.14  Z\" fill=\"#009af9\" fill-rule=\"evenodd\" fill-opacity=\"1\"/>\n",
       "<polyline clip-path=\"url(#clip262)\" style=\"stroke:#000000; stroke-linecap:round; stroke-linejoin:round; stroke-width:4; stroke-opacity:1; fill:none\" points=\"291.959,1484.14 291.959,1486.45 320.501,1486.45 320.501,1484.14 291.959,1484.14 \"/>\n",
       "<path clip-path=\"url(#clip262)\" d=\"M320.501 1486.45 L320.501 1486.45 L349.043 1486.45 L349.043 1486.45 L320.501 1486.45 L320.501 1486.45  Z\" fill=\"#009af9\" fill-rule=\"evenodd\" fill-opacity=\"1\"/>\n",
       "<polyline clip-path=\"url(#clip262)\" style=\"stroke:#000000; stroke-linecap:round; stroke-linejoin:round; stroke-width:4; stroke-opacity:1; fill:none\" points=\"320.501,1486.45 320.501,1486.45 349.043,1486.45 320.501,1486.45 \"/>\n",
       "<path clip-path=\"url(#clip262)\" d=\"M349.043 1486.45 L349.043 1486.45 L377.585 1486.45 L377.585 1486.45 L349.043 1486.45 L349.043 1486.45  Z\" fill=\"#009af9\" fill-rule=\"evenodd\" fill-opacity=\"1\"/>\n",
       "<polyline clip-path=\"url(#clip262)\" style=\"stroke:#000000; stroke-linecap:round; stroke-linejoin:round; stroke-width:4; stroke-opacity:1; fill:none\" points=\"349.043,1486.45 349.043,1486.45 377.585,1486.45 349.043,1486.45 \"/>\n",
       "<path clip-path=\"url(#clip262)\" d=\"M377.585 1486.45 L377.585 1486.45 L406.127 1486.45 L406.127 1486.45 L377.585 1486.45 L377.585 1486.45  Z\" fill=\"#009af9\" fill-rule=\"evenodd\" fill-opacity=\"1\"/>\n",
       "<polyline clip-path=\"url(#clip262)\" style=\"stroke:#000000; stroke-linecap:round; stroke-linejoin:round; stroke-width:4; stroke-opacity:1; fill:none\" points=\"377.585,1486.45 377.585,1486.45 406.127,1486.45 377.585,1486.45 \"/>\n",
       "<path clip-path=\"url(#clip262)\" d=\"M406.127 1486.45 L406.127 1486.45 L434.669 1486.45 L434.669 1486.45 L406.127 1486.45 L406.127 1486.45  Z\" fill=\"#009af9\" fill-rule=\"evenodd\" fill-opacity=\"1\"/>\n",
       "<polyline clip-path=\"url(#clip262)\" style=\"stroke:#000000; stroke-linecap:round; stroke-linejoin:round; stroke-width:4; stroke-opacity:1; fill:none\" points=\"406.127,1486.45 406.127,1486.45 434.669,1486.45 406.127,1486.45 \"/>\n",
       "<path clip-path=\"url(#clip262)\" d=\"M434.669 1486.45 L434.669 1486.45 L463.211 1486.45 L463.211 1486.45 L434.669 1486.45 L434.669 1486.45  Z\" fill=\"#009af9\" fill-rule=\"evenodd\" fill-opacity=\"1\"/>\n",
       "<polyline clip-path=\"url(#clip262)\" style=\"stroke:#000000; stroke-linecap:round; stroke-linejoin:round; stroke-width:4; stroke-opacity:1; fill:none\" points=\"434.669,1486.45 434.669,1486.45 463.211,1486.45 434.669,1486.45 \"/>\n",
       "<path clip-path=\"url(#clip262)\" d=\"M463.211 1481.84 L463.211 1486.45 L491.753 1486.45 L491.753 1481.84 L463.211 1481.84 L463.211 1481.84  Z\" fill=\"#009af9\" fill-rule=\"evenodd\" fill-opacity=\"1\"/>\n",
       "<polyline clip-path=\"url(#clip262)\" style=\"stroke:#000000; stroke-linecap:round; stroke-linejoin:round; stroke-width:4; stroke-opacity:1; fill:none\" points=\"463.211,1481.84 463.211,1486.45 491.753,1486.45 491.753,1481.84 463.211,1481.84 \"/>\n",
       "<path clip-path=\"url(#clip262)\" d=\"M491.753 1479.53 L491.753 1486.45 L520.295 1486.45 L520.295 1479.53 L491.753 1479.53 L491.753 1479.53  Z\" fill=\"#009af9\" fill-rule=\"evenodd\" fill-opacity=\"1\"/>\n",
       "<polyline clip-path=\"url(#clip262)\" style=\"stroke:#000000; stroke-linecap:round; stroke-linejoin:round; stroke-width:4; stroke-opacity:1; fill:none\" points=\"491.753,1479.53 491.753,1486.45 520.295,1486.45 520.295,1479.53 491.753,1479.53 \"/>\n",
       "<path clip-path=\"url(#clip262)\" d=\"M520.295 1474.92 L520.295 1486.45 L548.837 1486.45 L548.837 1474.92 L520.295 1474.92 L520.295 1474.92  Z\" fill=\"#009af9\" fill-rule=\"evenodd\" fill-opacity=\"1\"/>\n",
       "<polyline clip-path=\"url(#clip262)\" style=\"stroke:#000000; stroke-linecap:round; stroke-linejoin:round; stroke-width:4; stroke-opacity:1; fill:none\" points=\"520.295,1474.92 520.295,1486.45 548.837,1486.45 548.837,1474.92 520.295,1474.92 \"/>\n",
       "<path clip-path=\"url(#clip262)\" d=\"M548.837 1472.61 L548.837 1486.45 L577.379 1486.45 L577.379 1472.61 L548.837 1472.61 L548.837 1472.61  Z\" fill=\"#009af9\" fill-rule=\"evenodd\" fill-opacity=\"1\"/>\n",
       "<polyline clip-path=\"url(#clip262)\" style=\"stroke:#000000; stroke-linecap:round; stroke-linejoin:round; stroke-width:4; stroke-opacity:1; fill:none\" points=\"548.837,1472.61 548.837,1486.45 577.379,1486.45 577.379,1472.61 548.837,1472.61 \"/>\n",
       "<path clip-path=\"url(#clip262)\" d=\"M577.379 1474.92 L577.379 1486.45 L605.921 1486.45 L605.921 1474.92 L577.379 1474.92 L577.379 1474.92  Z\" fill=\"#009af9\" fill-rule=\"evenodd\" fill-opacity=\"1\"/>\n",
       "<polyline clip-path=\"url(#clip262)\" style=\"stroke:#000000; stroke-linecap:round; stroke-linejoin:round; stroke-width:4; stroke-opacity:1; fill:none\" points=\"577.379,1474.92 577.379,1486.45 605.921,1486.45 605.921,1474.92 577.379,1474.92 \"/>\n",
       "<path clip-path=\"url(#clip262)\" d=\"M605.921 1484.14 L605.921 1486.45 L634.463 1486.45 L634.463 1484.14 L605.921 1484.14 L605.921 1484.14  Z\" fill=\"#009af9\" fill-rule=\"evenodd\" fill-opacity=\"1\"/>\n",
       "<polyline clip-path=\"url(#clip262)\" style=\"stroke:#000000; stroke-linecap:round; stroke-linejoin:round; stroke-width:4; stroke-opacity:1; fill:none\" points=\"605.921,1484.14 605.921,1486.45 634.463,1486.45 634.463,1484.14 605.921,1484.14 \"/>\n",
       "<path clip-path=\"url(#clip262)\" d=\"M634.463 1477.22 L634.463 1486.45 L663.005 1486.45 L663.005 1477.22 L634.463 1477.22 L634.463 1477.22  Z\" fill=\"#009af9\" fill-rule=\"evenodd\" fill-opacity=\"1\"/>\n",
       "<polyline clip-path=\"url(#clip262)\" style=\"stroke:#000000; stroke-linecap:round; stroke-linejoin:round; stroke-width:4; stroke-opacity:1; fill:none\" points=\"634.463,1477.22 634.463,1486.45 663.005,1486.45 663.005,1477.22 634.463,1477.22 \"/>\n",
       "<path clip-path=\"url(#clip262)\" d=\"M663.005 1472.61 L663.005 1486.45 L691.547 1486.45 L691.547 1472.61 L663.005 1472.61 L663.005 1472.61  Z\" fill=\"#009af9\" fill-rule=\"evenodd\" fill-opacity=\"1\"/>\n",
       "<polyline clip-path=\"url(#clip262)\" style=\"stroke:#000000; stroke-linecap:round; stroke-linejoin:round; stroke-width:4; stroke-opacity:1; fill:none\" points=\"663.005,1472.61 663.005,1486.45 691.547,1486.45 691.547,1472.61 663.005,1472.61 \"/>\n",
       "<path clip-path=\"url(#clip262)\" d=\"M691.547 1470.3 L691.547 1486.45 L720.089 1486.45 L720.089 1470.3 L691.547 1470.3 L691.547 1470.3  Z\" fill=\"#009af9\" fill-rule=\"evenodd\" fill-opacity=\"1\"/>\n",
       "<polyline clip-path=\"url(#clip262)\" style=\"stroke:#000000; stroke-linecap:round; stroke-linejoin:round; stroke-width:4; stroke-opacity:1; fill:none\" points=\"691.547,1470.3 691.547,1486.45 720.089,1486.45 720.089,1470.3 691.547,1470.3 \"/>\n",
       "<path clip-path=\"url(#clip262)\" d=\"M720.089 1468 L720.089 1486.45 L748.63 1486.45 L748.63 1468 L720.089 1468 L720.089 1468  Z\" fill=\"#009af9\" fill-rule=\"evenodd\" fill-opacity=\"1\"/>\n",
       "<polyline clip-path=\"url(#clip262)\" style=\"stroke:#000000; stroke-linecap:round; stroke-linejoin:round; stroke-width:4; stroke-opacity:1; fill:none\" points=\"720.089,1468 720.089,1486.45 748.63,1486.45 748.63,1468 720.089,1468 \"/>\n",
       "<path clip-path=\"url(#clip262)\" d=\"M748.63 1458.77 L748.63 1486.45 L777.172 1486.45 L777.172 1458.77 L748.63 1458.77 L748.63 1458.77  Z\" fill=\"#009af9\" fill-rule=\"evenodd\" fill-opacity=\"1\"/>\n",
       "<polyline clip-path=\"url(#clip262)\" style=\"stroke:#000000; stroke-linecap:round; stroke-linejoin:round; stroke-width:4; stroke-opacity:1; fill:none\" points=\"748.63,1458.77 748.63,1486.45 777.172,1486.45 777.172,1458.77 748.63,1458.77 \"/>\n",
       "<path clip-path=\"url(#clip262)\" d=\"M777.172 1456.46 L777.172 1486.45 L805.714 1486.45 L805.714 1456.46 L777.172 1456.46 L777.172 1456.46  Z\" fill=\"#009af9\" fill-rule=\"evenodd\" fill-opacity=\"1\"/>\n",
       "<polyline clip-path=\"url(#clip262)\" style=\"stroke:#000000; stroke-linecap:round; stroke-linejoin:round; stroke-width:4; stroke-opacity:1; fill:none\" points=\"777.172,1456.46 777.172,1486.45 805.714,1486.45 805.714,1456.46 777.172,1456.46 \"/>\n",
       "<path clip-path=\"url(#clip262)\" d=\"M805.714 1442.63 L805.714 1486.45 L834.256 1486.45 L834.256 1442.63 L805.714 1442.63 L805.714 1442.63  Z\" fill=\"#009af9\" fill-rule=\"evenodd\" fill-opacity=\"1\"/>\n",
       "<polyline clip-path=\"url(#clip262)\" style=\"stroke:#000000; stroke-linecap:round; stroke-linejoin:round; stroke-width:4; stroke-opacity:1; fill:none\" points=\"805.714,1442.63 805.714,1486.45 834.256,1486.45 834.256,1442.63 805.714,1442.63 \"/>\n",
       "<path clip-path=\"url(#clip262)\" d=\"M834.256 1433.4 L834.256 1486.45 L862.798 1486.45 L862.798 1433.4 L834.256 1433.4 L834.256 1433.4  Z\" fill=\"#009af9\" fill-rule=\"evenodd\" fill-opacity=\"1\"/>\n",
       "<polyline clip-path=\"url(#clip262)\" style=\"stroke:#000000; stroke-linecap:round; stroke-linejoin:round; stroke-width:4; stroke-opacity:1; fill:none\" points=\"834.256,1433.4 834.256,1486.45 862.798,1486.45 862.798,1433.4 834.256,1433.4 \"/>\n",
       "<path clip-path=\"url(#clip262)\" d=\"M862.798 1444.93 L862.798 1486.45 L891.34 1486.45 L891.34 1444.93 L862.798 1444.93 L862.798 1444.93  Z\" fill=\"#009af9\" fill-rule=\"evenodd\" fill-opacity=\"1\"/>\n",
       "<polyline clip-path=\"url(#clip262)\" style=\"stroke:#000000; stroke-linecap:round; stroke-linejoin:round; stroke-width:4; stroke-opacity:1; fill:none\" points=\"862.798,1444.93 862.798,1486.45 891.34,1486.45 891.34,1444.93 862.798,1444.93 \"/>\n",
       "<path clip-path=\"url(#clip262)\" d=\"M891.34 1428.79 L891.34 1486.45 L919.882 1486.45 L919.882 1428.79 L891.34 1428.79 L891.34 1428.79  Z\" fill=\"#009af9\" fill-rule=\"evenodd\" fill-opacity=\"1\"/>\n",
       "<polyline clip-path=\"url(#clip262)\" style=\"stroke:#000000; stroke-linecap:round; stroke-linejoin:round; stroke-width:4; stroke-opacity:1; fill:none\" points=\"891.34,1428.79 891.34,1486.45 919.882,1486.45 919.882,1428.79 891.34,1428.79 \"/>\n",
       "<path clip-path=\"url(#clip262)\" d=\"M919.882 1417.26 L919.882 1486.45 L948.424 1486.45 L948.424 1417.26 L919.882 1417.26 L919.882 1417.26  Z\" fill=\"#009af9\" fill-rule=\"evenodd\" fill-opacity=\"1\"/>\n",
       "<polyline clip-path=\"url(#clip262)\" style=\"stroke:#000000; stroke-linecap:round; stroke-linejoin:round; stroke-width:4; stroke-opacity:1; fill:none\" points=\"919.882,1417.26 919.882,1486.45 948.424,1486.45 948.424,1417.26 919.882,1417.26 \"/>\n",
       "<path clip-path=\"url(#clip262)\" d=\"M948.424 1435.71 L948.424 1486.45 L976.966 1486.45 L976.966 1435.71 L948.424 1435.71 L948.424 1435.71  Z\" fill=\"#009af9\" fill-rule=\"evenodd\" fill-opacity=\"1\"/>\n",
       "<polyline clip-path=\"url(#clip262)\" style=\"stroke:#000000; stroke-linecap:round; stroke-linejoin:round; stroke-width:4; stroke-opacity:1; fill:none\" points=\"948.424,1435.71 948.424,1486.45 976.966,1486.45 976.966,1435.71 948.424,1435.71 \"/>\n",
       "<path clip-path=\"url(#clip262)\" d=\"M976.966 1403.42 L976.966 1486.45 L1005.51 1486.45 L1005.51 1403.42 L976.966 1403.42 L976.966 1403.42  Z\" fill=\"#009af9\" fill-rule=\"evenodd\" fill-opacity=\"1\"/>\n",
       "<polyline clip-path=\"url(#clip262)\" style=\"stroke:#000000; stroke-linecap:round; stroke-linejoin:round; stroke-width:4; stroke-opacity:1; fill:none\" points=\"976.966,1403.42 976.966,1486.45 1005.51,1486.45 1005.51,1403.42 976.966,1403.42 \"/>\n",
       "<path clip-path=\"url(#clip262)\" d=\"M1005.51 1405.72 L1005.51 1486.45 L1034.05 1486.45 L1034.05 1405.72 L1005.51 1405.72 L1005.51 1405.72  Z\" fill=\"#009af9\" fill-rule=\"evenodd\" fill-opacity=\"1\"/>\n",
       "<polyline clip-path=\"url(#clip262)\" style=\"stroke:#000000; stroke-linecap:round; stroke-linejoin:round; stroke-width:4; stroke-opacity:1; fill:none\" points=\"1005.51,1405.72 1005.51,1486.45 1034.05,1486.45 1034.05,1405.72 1005.51,1405.72 \"/>\n",
       "<path clip-path=\"url(#clip262)\" d=\"M1034.05 1398.8 L1034.05 1486.45 L1062.59 1486.45 L1062.59 1398.8 L1034.05 1398.8 L1034.05 1398.8  Z\" fill=\"#009af9\" fill-rule=\"evenodd\" fill-opacity=\"1\"/>\n",
       "<polyline clip-path=\"url(#clip262)\" style=\"stroke:#000000; stroke-linecap:round; stroke-linejoin:round; stroke-width:4; stroke-opacity:1; fill:none\" points=\"1034.05,1398.8 1034.05,1486.45 1062.59,1486.45 1062.59,1398.8 1034.05,1398.8 \"/>\n",
       "<path clip-path=\"url(#clip262)\" d=\"M1062.59 1391.88 L1062.59 1486.45 L1091.13 1486.45 L1091.13 1391.88 L1062.59 1391.88 L1062.59 1391.88  Z\" fill=\"#009af9\" fill-rule=\"evenodd\" fill-opacity=\"1\"/>\n",
       "<polyline clip-path=\"url(#clip262)\" style=\"stroke:#000000; stroke-linecap:round; stroke-linejoin:round; stroke-width:4; stroke-opacity:1; fill:none\" points=\"1062.59,1391.88 1062.59,1486.45 1091.13,1486.45 1091.13,1391.88 1062.59,1391.88 \"/>\n",
       "<path clip-path=\"url(#clip262)\" d=\"M1091.13 1373.43 L1091.13 1486.45 L1119.68 1486.45 L1119.68 1373.43 L1091.13 1373.43 L1091.13 1373.43  Z\" fill=\"#009af9\" fill-rule=\"evenodd\" fill-opacity=\"1\"/>\n",
       "<polyline clip-path=\"url(#clip262)\" style=\"stroke:#000000; stroke-linecap:round; stroke-linejoin:round; stroke-width:4; stroke-opacity:1; fill:none\" points=\"1091.13,1373.43 1091.13,1486.45 1119.68,1486.45 1119.68,1373.43 1091.13,1373.43 \"/>\n",
       "<path clip-path=\"url(#clip262)\" d=\"M1119.68 1378.05 L1119.68 1486.45 L1148.22 1486.45 L1148.22 1378.05 L1119.68 1378.05 L1119.68 1378.05  Z\" fill=\"#009af9\" fill-rule=\"evenodd\" fill-opacity=\"1\"/>\n",
       "<polyline clip-path=\"url(#clip262)\" style=\"stroke:#000000; stroke-linecap:round; stroke-linejoin:round; stroke-width:4; stroke-opacity:1; fill:none\" points=\"1119.68,1378.05 1119.68,1486.45 1148.22,1486.45 1148.22,1378.05 1119.68,1378.05 \"/>\n",
       "<path clip-path=\"url(#clip262)\" d=\"M1148.22 1371.13 L1148.22 1486.45 L1176.76 1486.45 L1176.76 1371.13 L1148.22 1371.13 L1148.22 1371.13  Z\" fill=\"#009af9\" fill-rule=\"evenodd\" fill-opacity=\"1\"/>\n",
       "<polyline clip-path=\"url(#clip262)\" style=\"stroke:#000000; stroke-linecap:round; stroke-linejoin:round; stroke-width:4; stroke-opacity:1; fill:none\" points=\"1148.22,1371.13 1148.22,1486.45 1176.76,1486.45 1176.76,1371.13 1148.22,1371.13 \"/>\n",
       "<path clip-path=\"url(#clip262)\" d=\"M1176.76 1334.22 L1176.76 1486.45 L1205.3 1486.45 L1205.3 1334.22 L1176.76 1334.22 L1176.76 1334.22  Z\" fill=\"#009af9\" fill-rule=\"evenodd\" fill-opacity=\"1\"/>\n",
       "<polyline clip-path=\"url(#clip262)\" style=\"stroke:#000000; stroke-linecap:round; stroke-linejoin:round; stroke-width:4; stroke-opacity:1; fill:none\" points=\"1176.76,1334.22 1176.76,1486.45 1205.3,1486.45 1205.3,1334.22 1176.76,1334.22 \"/>\n",
       "<path clip-path=\"url(#clip262)\" d=\"M1205.3 1329.61 L1205.3 1486.45 L1233.84 1486.45 L1233.84 1329.61 L1205.3 1329.61 L1205.3 1329.61  Z\" fill=\"#009af9\" fill-rule=\"evenodd\" fill-opacity=\"1\"/>\n",
       "<polyline clip-path=\"url(#clip262)\" style=\"stroke:#000000; stroke-linecap:round; stroke-linejoin:round; stroke-width:4; stroke-opacity:1; fill:none\" points=\"1205.3,1329.61 1205.3,1486.45 1233.84,1486.45 1233.84,1329.61 1205.3,1329.61 \"/>\n",
       "<path clip-path=\"url(#clip262)\" d=\"M1233.84 1290.4 L1233.84 1486.45 L1262.39 1486.45 L1262.39 1290.4 L1233.84 1290.4 L1233.84 1290.4  Z\" fill=\"#009af9\" fill-rule=\"evenodd\" fill-opacity=\"1\"/>\n",
       "<polyline clip-path=\"url(#clip262)\" style=\"stroke:#000000; stroke-linecap:round; stroke-linejoin:round; stroke-width:4; stroke-opacity:1; fill:none\" points=\"1233.84,1290.4 1233.84,1486.45 1262.39,1486.45 1262.39,1290.4 1233.84,1290.4 \"/>\n",
       "<path clip-path=\"url(#clip262)\" d=\"M1262.39 1230.44 L1262.39 1486.45 L1290.93 1486.45 L1290.93 1230.44 L1262.39 1230.44 L1262.39 1230.44  Z\" fill=\"#009af9\" fill-rule=\"evenodd\" fill-opacity=\"1\"/>\n",
       "<polyline clip-path=\"url(#clip262)\" style=\"stroke:#000000; stroke-linecap:round; stroke-linejoin:round; stroke-width:4; stroke-opacity:1; fill:none\" points=\"1262.39,1230.44 1262.39,1486.45 1290.93,1486.45 1290.93,1230.44 1262.39,1230.44 \"/>\n",
       "<path clip-path=\"url(#clip262)\" d=\"M1290.93 1260.42 L1290.93 1486.45 L1319.47 1486.45 L1319.47 1260.42 L1290.93 1260.42 L1290.93 1260.42  Z\" fill=\"#009af9\" fill-rule=\"evenodd\" fill-opacity=\"1\"/>\n",
       "<polyline clip-path=\"url(#clip262)\" style=\"stroke:#000000; stroke-linecap:round; stroke-linejoin:round; stroke-width:4; stroke-opacity:1; fill:none\" points=\"1290.93,1260.42 1290.93,1486.45 1319.47,1486.45 1319.47,1260.42 1290.93,1260.42 \"/>\n",
       "<path clip-path=\"url(#clip262)\" d=\"M1319.47 1205.07 L1319.47 1486.45 L1348.01 1486.45 L1348.01 1205.07 L1319.47 1205.07 L1319.47 1205.07  Z\" fill=\"#009af9\" fill-rule=\"evenodd\" fill-opacity=\"1\"/>\n",
       "<polyline clip-path=\"url(#clip262)\" style=\"stroke:#000000; stroke-linecap:round; stroke-linejoin:round; stroke-width:4; stroke-opacity:1; fill:none\" points=\"1319.47,1205.07 1319.47,1486.45 1348.01,1486.45 1348.01,1205.07 1319.47,1205.07 \"/>\n",
       "<path clip-path=\"url(#clip262)\" d=\"M1348.01 1209.68 L1348.01 1486.45 L1376.55 1486.45 L1376.55 1209.68 L1348.01 1209.68 L1348.01 1209.68  Z\" fill=\"#009af9\" fill-rule=\"evenodd\" fill-opacity=\"1\"/>\n",
       "<polyline clip-path=\"url(#clip262)\" style=\"stroke:#000000; stroke-linecap:round; stroke-linejoin:round; stroke-width:4; stroke-opacity:1; fill:none\" points=\"1348.01,1209.68 1348.01,1486.45 1376.55,1486.45 1376.55,1209.68 1348.01,1209.68 \"/>\n",
       "<path clip-path=\"url(#clip262)\" d=\"M1376.55 1108.2 L1376.55 1486.45 L1405.1 1486.45 L1405.1 1108.2 L1376.55 1108.2 L1376.55 1108.2  Z\" fill=\"#009af9\" fill-rule=\"evenodd\" fill-opacity=\"1\"/>\n",
       "<polyline clip-path=\"url(#clip262)\" style=\"stroke:#000000; stroke-linecap:round; stroke-linejoin:round; stroke-width:4; stroke-opacity:1; fill:none\" points=\"1376.55,1108.2 1376.55,1486.45 1405.1,1486.45 1405.1,1108.2 1376.55,1108.2 \"/>\n",
       "<path clip-path=\"url(#clip262)\" d=\"M1405.1 1112.81 L1405.1 1486.45 L1433.64 1486.45 L1433.64 1112.81 L1405.1 1112.81 L1405.1 1112.81  Z\" fill=\"#009af9\" fill-rule=\"evenodd\" fill-opacity=\"1\"/>\n",
       "<polyline clip-path=\"url(#clip262)\" style=\"stroke:#000000; stroke-linecap:round; stroke-linejoin:round; stroke-width:4; stroke-opacity:1; fill:none\" points=\"1405.1,1112.81 1405.1,1486.45 1433.64,1486.45 1433.64,1112.81 1405.1,1112.81 \"/>\n",
       "<path clip-path=\"url(#clip262)\" d=\"M1433.64 1092.05 L1433.64 1486.45 L1462.18 1486.45 L1462.18 1092.05 L1433.64 1092.05 L1433.64 1092.05  Z\" fill=\"#009af9\" fill-rule=\"evenodd\" fill-opacity=\"1\"/>\n",
       "<polyline clip-path=\"url(#clip262)\" style=\"stroke:#000000; stroke-linecap:round; stroke-linejoin:round; stroke-width:4; stroke-opacity:1; fill:none\" points=\"1433.64,1092.05 1433.64,1486.45 1462.18,1486.45 1462.18,1092.05 1433.64,1092.05 \"/>\n",
       "<path clip-path=\"url(#clip262)\" d=\"M1462.18 1022.86 L1462.18 1486.45 L1490.72 1486.45 L1490.72 1022.86 L1462.18 1022.86 L1462.18 1022.86  Z\" fill=\"#009af9\" fill-rule=\"evenodd\" fill-opacity=\"1\"/>\n",
       "<polyline clip-path=\"url(#clip262)\" style=\"stroke:#000000; stroke-linecap:round; stroke-linejoin:round; stroke-width:4; stroke-opacity:1; fill:none\" points=\"1462.18,1022.86 1462.18,1486.45 1490.72,1486.45 1490.72,1022.86 1462.18,1022.86 \"/>\n",
       "<path clip-path=\"url(#clip262)\" d=\"M1490.72 914.457 L1490.72 1486.45 L1519.26 1486.45 L1519.26 914.457 L1490.72 914.457 L1490.72 914.457  Z\" fill=\"#009af9\" fill-rule=\"evenodd\" fill-opacity=\"1\"/>\n",
       "<polyline clip-path=\"url(#clip262)\" style=\"stroke:#000000; stroke-linecap:round; stroke-linejoin:round; stroke-width:4; stroke-opacity:1; fill:none\" points=\"1490.72,914.457 1490.72,1486.45 1519.26,1486.45 1519.26,914.457 1490.72,914.457 \"/>\n",
       "<path clip-path=\"url(#clip262)\" d=\"M1519.26 872.941 L1519.26 1486.45 L1547.8 1486.45 L1547.8 872.941 L1519.26 872.941 L1519.26 872.941  Z\" fill=\"#009af9\" fill-rule=\"evenodd\" fill-opacity=\"1\"/>\n",
       "<polyline clip-path=\"url(#clip262)\" style=\"stroke:#000000; stroke-linecap:round; stroke-linejoin:round; stroke-width:4; stroke-opacity:1; fill:none\" points=\"1519.26,872.941 1519.26,1486.45 1547.8,1486.45 1547.8,872.941 1519.26,872.941 \"/>\n",
       "<path clip-path=\"url(#clip262)\" d=\"M1547.8 762.233 L1547.8 1486.45 L1576.35 1486.45 L1576.35 762.233 L1547.8 762.233 L1547.8 762.233  Z\" fill=\"#009af9\" fill-rule=\"evenodd\" fill-opacity=\"1\"/>\n",
       "<polyline clip-path=\"url(#clip262)\" style=\"stroke:#000000; stroke-linecap:round; stroke-linejoin:round; stroke-width:4; stroke-opacity:1; fill:none\" points=\"1547.8,762.233 1547.8,1486.45 1576.35,1486.45 1576.35,762.233 1547.8,762.233 \"/>\n",
       "<path clip-path=\"url(#clip262)\" d=\"M1576.35 644.606 L1576.35 1486.45 L1604.89 1486.45 L1604.89 644.606 L1576.35 644.606 L1576.35 644.606  Z\" fill=\"#009af9\" fill-rule=\"evenodd\" fill-opacity=\"1\"/>\n",
       "<polyline clip-path=\"url(#clip262)\" style=\"stroke:#000000; stroke-linecap:round; stroke-linejoin:round; stroke-width:4; stroke-opacity:1; fill:none\" points=\"1576.35,644.606 1576.35,1486.45 1604.89,1486.45 1604.89,644.606 1576.35,644.606 \"/>\n",
       "<path clip-path=\"url(#clip262)\" d=\"M1604.89 453.173 L1604.89 1486.45 L1633.43 1486.45 L1633.43 453.173 L1604.89 453.173 L1604.89 453.173  Z\" fill=\"#009af9\" fill-rule=\"evenodd\" fill-opacity=\"1\"/>\n",
       "<polyline clip-path=\"url(#clip262)\" style=\"stroke:#000000; stroke-linecap:round; stroke-linejoin:round; stroke-width:4; stroke-opacity:1; fill:none\" points=\"1604.89,453.173 1604.89,1486.45 1633.43,1486.45 1633.43,453.173 1604.89,453.173 \"/>\n",
       "<path clip-path=\"url(#clip262)\" d=\"M1633.43 478.544 L1633.43 1486.45 L1661.97 1486.45 L1661.97 478.544 L1633.43 478.544 L1633.43 478.544  Z\" fill=\"#009af9\" fill-rule=\"evenodd\" fill-opacity=\"1\"/>\n",
       "<polyline clip-path=\"url(#clip262)\" style=\"stroke:#000000; stroke-linecap:round; stroke-linejoin:round; stroke-width:4; stroke-opacity:1; fill:none\" points=\"1633.43,478.544 1633.43,1486.45 1661.97,1486.45 1661.97,478.544 1633.43,478.544 \"/>\n",
       "<path clip-path=\"url(#clip262)\" d=\"M1661.97 127.969 L1661.97 1486.45 L1690.51 1486.45 L1690.51 127.969 L1661.97 127.969 L1661.97 127.969  Z\" fill=\"#009af9\" fill-rule=\"evenodd\" fill-opacity=\"1\"/>\n",
       "<polyline clip-path=\"url(#clip262)\" style=\"stroke:#000000; stroke-linecap:round; stroke-linejoin:round; stroke-width:4; stroke-opacity:1; fill:none\" points=\"1661.97,127.969 1661.97,1486.45 1690.51,1486.45 1690.51,127.969 1661.97,127.969 \"/>\n",
       "<path clip-path=\"url(#clip262)\" d=\"M1690.51 97.9853 L1690.51 1486.45 L1719.06 1486.45 L1719.06 97.9853 L1690.51 97.9853 L1690.51 97.9853  Z\" fill=\"#009af9\" fill-rule=\"evenodd\" fill-opacity=\"1\"/>\n",
       "<polyline clip-path=\"url(#clip262)\" style=\"stroke:#000000; stroke-linecap:round; stroke-linejoin:round; stroke-width:4; stroke-opacity:1; fill:none\" points=\"1690.51,97.9853 1690.51,1486.45 1719.06,1486.45 1719.06,97.9853 1690.51,97.9853 \"/>\n",
       "<path clip-path=\"url(#clip262)\" d=\"M1719.06 107.211 L1719.06 1486.45 L1747.6 1486.45 L1747.6 107.211 L1719.06 107.211 L1719.06 107.211  Z\" fill=\"#009af9\" fill-rule=\"evenodd\" fill-opacity=\"1\"/>\n",
       "<polyline clip-path=\"url(#clip262)\" style=\"stroke:#000000; stroke-linecap:round; stroke-linejoin:round; stroke-width:4; stroke-opacity:1; fill:none\" points=\"1719.06,107.211 1719.06,1486.45 1747.6,1486.45 1747.6,107.211 1719.06,107.211 \"/>\n",
       "<path clip-path=\"url(#clip262)\" d=\"M1747.6 95.6788 L1747.6 1486.45 L1776.14 1486.45 L1776.14 95.6788 L1747.6 95.6788 L1747.6 95.6788  Z\" fill=\"#009af9\" fill-rule=\"evenodd\" fill-opacity=\"1\"/>\n",
       "<polyline clip-path=\"url(#clip262)\" style=\"stroke:#000000; stroke-linecap:round; stroke-linejoin:round; stroke-width:4; stroke-opacity:1; fill:none\" points=\"1747.6,95.6788 1747.6,1486.45 1776.14,1486.45 1776.14,95.6788 1747.6,95.6788 \"/>\n",
       "<path clip-path=\"url(#clip262)\" d=\"M1776.14 47.2441 L1776.14 1486.45 L1804.68 1486.45 L1804.68 47.2441 L1776.14 47.2441 L1776.14 47.2441  Z\" fill=\"#009af9\" fill-rule=\"evenodd\" fill-opacity=\"1\"/>\n",
       "<polyline clip-path=\"url(#clip262)\" style=\"stroke:#000000; stroke-linecap:round; stroke-linejoin:round; stroke-width:4; stroke-opacity:1; fill:none\" points=\"1776.14,47.2441 1776.14,1486.45 1804.68,1486.45 1804.68,47.2441 1776.14,47.2441 \"/>\n",
       "<path clip-path=\"url(#clip262)\" d=\"M1804.68 162.565 L1804.68 1486.45 L1833.22 1486.45 L1833.22 162.565 L1804.68 162.565 L1804.68 162.565  Z\" fill=\"#009af9\" fill-rule=\"evenodd\" fill-opacity=\"1\"/>\n",
       "<polyline clip-path=\"url(#clip262)\" style=\"stroke:#000000; stroke-linecap:round; stroke-linejoin:round; stroke-width:4; stroke-opacity:1; fill:none\" points=\"1804.68,162.565 1804.68,1486.45 1833.22,1486.45 1833.22,162.565 1804.68,162.565 \"/>\n",
       "<path clip-path=\"url(#clip262)\" d=\"M1833.22 372.449 L1833.22 1486.45 L1861.77 1486.45 L1861.77 372.449 L1833.22 372.449 L1833.22 372.449  Z\" fill=\"#009af9\" fill-rule=\"evenodd\" fill-opacity=\"1\"/>\n",
       "<polyline clip-path=\"url(#clip262)\" style=\"stroke:#000000; stroke-linecap:round; stroke-linejoin:round; stroke-width:4; stroke-opacity:1; fill:none\" points=\"1833.22,372.449 1833.22,1486.45 1861.77,1486.45 1861.77,372.449 1833.22,372.449 \"/>\n",
       "<path clip-path=\"url(#clip262)\" d=\"M1861.77 586.946 L1861.77 1486.45 L1890.31 1486.45 L1890.31 586.946 L1861.77 586.946 L1861.77 586.946  Z\" fill=\"#009af9\" fill-rule=\"evenodd\" fill-opacity=\"1\"/>\n",
       "<polyline clip-path=\"url(#clip262)\" style=\"stroke:#000000; stroke-linecap:round; stroke-linejoin:round; stroke-width:4; stroke-opacity:1; fill:none\" points=\"1861.77,586.946 1861.77,1486.45 1890.31,1486.45 1890.31,586.946 1861.77,586.946 \"/>\n",
       "<path clip-path=\"url(#clip262)\" d=\"M1890.31 819.894 L1890.31 1486.45 L1918.85 1486.45 L1918.85 819.894 L1890.31 819.894 L1890.31 819.894  Z\" fill=\"#009af9\" fill-rule=\"evenodd\" fill-opacity=\"1\"/>\n",
       "<polyline clip-path=\"url(#clip262)\" style=\"stroke:#000000; stroke-linecap:round; stroke-linejoin:round; stroke-width:4; stroke-opacity:1; fill:none\" points=\"1890.31,819.894 1890.31,1486.45 1918.85,1486.45 1918.85,819.894 1890.31,819.894 \"/>\n",
       "<path clip-path=\"url(#clip262)\" d=\"M1918.85 916.763 L1918.85 1486.45 L1947.39 1486.45 L1947.39 916.763 L1918.85 916.763 L1918.85 916.763  Z\" fill=\"#009af9\" fill-rule=\"evenodd\" fill-opacity=\"1\"/>\n",
       "<polyline clip-path=\"url(#clip262)\" style=\"stroke:#000000; stroke-linecap:round; stroke-linejoin:round; stroke-width:4; stroke-opacity:1; fill:none\" points=\"1918.85,916.763 1918.85,1486.45 1947.39,1486.45 1947.39,916.763 1918.85,916.763 \"/>\n",
       "<path clip-path=\"url(#clip262)\" d=\"M1947.39 879.86 L1947.39 1486.45 L1975.93 1486.45 L1975.93 879.86 L1947.39 879.86 L1947.39 879.86  Z\" fill=\"#009af9\" fill-rule=\"evenodd\" fill-opacity=\"1\"/>\n",
       "<polyline clip-path=\"url(#clip262)\" style=\"stroke:#000000; stroke-linecap:round; stroke-linejoin:round; stroke-width:4; stroke-opacity:1; fill:none\" points=\"1947.39,879.86 1947.39,1486.45 1975.93,1486.45 1975.93,879.86 1947.39,879.86 \"/>\n",
       "<path clip-path=\"url(#clip262)\" d=\"M1975.93 909.844 L1975.93 1486.45 L2004.48 1486.45 L2004.48 909.844 L1975.93 909.844 L1975.93 909.844  Z\" fill=\"#009af9\" fill-rule=\"evenodd\" fill-opacity=\"1\"/>\n",
       "<polyline clip-path=\"url(#clip262)\" style=\"stroke:#000000; stroke-linecap:round; stroke-linejoin:round; stroke-width:4; stroke-opacity:1; fill:none\" points=\"1975.93,909.844 1975.93,1486.45 2004.48,1486.45 2004.48,909.844 1975.93,909.844 \"/>\n",
       "<path clip-path=\"url(#clip262)\" d=\"M2004.48 923.682 L2004.48 1486.45 L2033.02 1486.45 L2033.02 923.682 L2004.48 923.682 L2004.48 923.682  Z\" fill=\"#009af9\" fill-rule=\"evenodd\" fill-opacity=\"1\"/>\n",
       "<polyline clip-path=\"url(#clip262)\" style=\"stroke:#000000; stroke-linecap:round; stroke-linejoin:round; stroke-width:4; stroke-opacity:1; fill:none\" points=\"2004.48,923.682 2004.48,1486.45 2033.02,1486.45 2033.02,923.682 2004.48,923.682 \"/>\n",
       "<path clip-path=\"url(#clip262)\" d=\"M2033.02 1098.97 L2033.02 1486.45 L2061.56 1486.45 L2061.56 1098.97 L2033.02 1098.97 L2033.02 1098.97  Z\" fill=\"#009af9\" fill-rule=\"evenodd\" fill-opacity=\"1\"/>\n",
       "<polyline clip-path=\"url(#clip262)\" style=\"stroke:#000000; stroke-linecap:round; stroke-linejoin:round; stroke-width:4; stroke-opacity:1; fill:none\" points=\"2033.02,1098.97 2033.02,1486.45 2061.56,1486.45 2061.56,1098.97 2033.02,1098.97 \"/>\n",
       "<path clip-path=\"url(#clip262)\" d=\"M2061.56 1288.1 L2061.56 1486.45 L2090.1 1486.45 L2090.1 1288.1 L2061.56 1288.1 L2061.56 1288.1  Z\" fill=\"#009af9\" fill-rule=\"evenodd\" fill-opacity=\"1\"/>\n",
       "<polyline clip-path=\"url(#clip262)\" style=\"stroke:#000000; stroke-linecap:round; stroke-linejoin:round; stroke-width:4; stroke-opacity:1; fill:none\" points=\"2061.56,1288.1 2061.56,1486.45 2090.1,1486.45 2090.1,1288.1 2061.56,1288.1 \"/>\n",
       "<path clip-path=\"url(#clip262)\" d=\"M2090.1 1428.79 L2090.1 1486.45 L2118.64 1486.45 L2118.64 1428.79 L2090.1 1428.79 L2090.1 1428.79  Z\" fill=\"#009af9\" fill-rule=\"evenodd\" fill-opacity=\"1\"/>\n",
       "<polyline clip-path=\"url(#clip262)\" style=\"stroke:#000000; stroke-linecap:round; stroke-linejoin:round; stroke-width:4; stroke-opacity:1; fill:none\" points=\"2090.1,1428.79 2090.1,1486.45 2118.64,1486.45 2118.64,1428.79 2090.1,1428.79 \"/>\n",
       "<path clip-path=\"url(#clip262)\" d=\"M2118.64 1465.69 L2118.64 1486.45 L2147.19 1486.45 L2147.19 1465.69 L2118.64 1465.69 L2118.64 1465.69  Z\" fill=\"#009af9\" fill-rule=\"evenodd\" fill-opacity=\"1\"/>\n",
       "<polyline clip-path=\"url(#clip262)\" style=\"stroke:#000000; stroke-linecap:round; stroke-linejoin:round; stroke-width:4; stroke-opacity:1; fill:none\" points=\"2118.64,1465.69 2118.64,1486.45 2147.19,1486.45 2147.19,1465.69 2118.64,1465.69 \"/>\n",
       "<path clip-path=\"url(#clip262)\" d=\"M2147.19 1479.53 L2147.19 1486.45 L2175.73 1486.45 L2175.73 1479.53 L2147.19 1479.53 L2147.19 1479.53  Z\" fill=\"#009af9\" fill-rule=\"evenodd\" fill-opacity=\"1\"/>\n",
       "<polyline clip-path=\"url(#clip262)\" style=\"stroke:#000000; stroke-linecap:round; stroke-linejoin:round; stroke-width:4; stroke-opacity:1; fill:none\" points=\"2147.19,1479.53 2147.19,1486.45 2175.73,1486.45 2175.73,1479.53 2147.19,1479.53 \"/>\n",
       "<path clip-path=\"url(#clip262)\" d=\"M2175.73 1486.45 L2175.73 1486.45 L2204.27 1486.45 L2204.27 1486.45 L2175.73 1486.45 L2175.73 1486.45  Z\" fill=\"#009af9\" fill-rule=\"evenodd\" fill-opacity=\"1\"/>\n",
       "<polyline clip-path=\"url(#clip262)\" style=\"stroke:#000000; stroke-linecap:round; stroke-linejoin:round; stroke-width:4; stroke-opacity:1; fill:none\" points=\"2175.73,1486.45 2175.73,1486.45 2204.27,1486.45 2175.73,1486.45 \"/>\n",
       "<path clip-path=\"url(#clip262)\" d=\"M2204.27 1484.14 L2204.27 1486.45 L2232.81 1486.45 L2232.81 1484.14 L2204.27 1484.14 L2204.27 1484.14  Z\" fill=\"#009af9\" fill-rule=\"evenodd\" fill-opacity=\"1\"/>\n",
       "<polyline clip-path=\"url(#clip262)\" style=\"stroke:#000000; stroke-linecap:round; stroke-linejoin:round; stroke-width:4; stroke-opacity:1; fill:none\" points=\"2204.27,1484.14 2204.27,1486.45 2232.81,1486.45 2232.81,1484.14 2204.27,1484.14 \"/>\n",
       "<circle clip-path=\"url(#clip262)\" style=\"fill:#009af9; stroke:none; fill-opacity:0\" cx=\"306.23\" cy=\"1484.14\" r=\"2\"/>\n",
       "<circle clip-path=\"url(#clip262)\" style=\"fill:#009af9; stroke:none; fill-opacity:0\" cx=\"334.772\" cy=\"1486.45\" r=\"2\"/>\n",
       "<circle clip-path=\"url(#clip262)\" style=\"fill:#009af9; stroke:none; fill-opacity:0\" cx=\"363.314\" cy=\"1486.45\" r=\"2\"/>\n",
       "<circle clip-path=\"url(#clip262)\" style=\"fill:#009af9; stroke:none; fill-opacity:0\" cx=\"391.856\" cy=\"1486.45\" r=\"2\"/>\n",
       "<circle clip-path=\"url(#clip262)\" style=\"fill:#009af9; stroke:none; fill-opacity:0\" cx=\"420.398\" cy=\"1486.45\" r=\"2\"/>\n",
       "<circle clip-path=\"url(#clip262)\" style=\"fill:#009af9; stroke:none; fill-opacity:0\" cx=\"448.94\" cy=\"1486.45\" r=\"2\"/>\n",
       "<circle clip-path=\"url(#clip262)\" style=\"fill:#009af9; stroke:none; fill-opacity:0\" cx=\"477.482\" cy=\"1481.84\" r=\"2\"/>\n",
       "<circle clip-path=\"url(#clip262)\" style=\"fill:#009af9; stroke:none; fill-opacity:0\" cx=\"506.024\" cy=\"1479.53\" r=\"2\"/>\n",
       "<circle clip-path=\"url(#clip262)\" style=\"fill:#009af9; stroke:none; fill-opacity:0\" cx=\"534.566\" cy=\"1474.92\" r=\"2\"/>\n",
       "<circle clip-path=\"url(#clip262)\" style=\"fill:#009af9; stroke:none; fill-opacity:0\" cx=\"563.108\" cy=\"1472.61\" r=\"2\"/>\n",
       "<circle clip-path=\"url(#clip262)\" style=\"fill:#009af9; stroke:none; fill-opacity:0\" cx=\"591.65\" cy=\"1474.92\" r=\"2\"/>\n",
       "<circle clip-path=\"url(#clip262)\" style=\"fill:#009af9; stroke:none; fill-opacity:0\" cx=\"620.192\" cy=\"1484.14\" r=\"2\"/>\n",
       "<circle clip-path=\"url(#clip262)\" style=\"fill:#009af9; stroke:none; fill-opacity:0\" cx=\"648.734\" cy=\"1477.22\" r=\"2\"/>\n",
       "<circle clip-path=\"url(#clip262)\" style=\"fill:#009af9; stroke:none; fill-opacity:0\" cx=\"677.276\" cy=\"1472.61\" r=\"2\"/>\n",
       "<circle clip-path=\"url(#clip262)\" style=\"fill:#009af9; stroke:none; fill-opacity:0\" cx=\"705.818\" cy=\"1470.3\" r=\"2\"/>\n",
       "<circle clip-path=\"url(#clip262)\" style=\"fill:#009af9; stroke:none; fill-opacity:0\" cx=\"734.36\" cy=\"1468\" r=\"2\"/>\n",
       "<circle clip-path=\"url(#clip262)\" style=\"fill:#009af9; stroke:none; fill-opacity:0\" cx=\"762.901\" cy=\"1458.77\" r=\"2\"/>\n",
       "<circle clip-path=\"url(#clip262)\" style=\"fill:#009af9; stroke:none; fill-opacity:0\" cx=\"791.443\" cy=\"1456.46\" r=\"2\"/>\n",
       "<circle clip-path=\"url(#clip262)\" style=\"fill:#009af9; stroke:none; fill-opacity:0\" cx=\"819.985\" cy=\"1442.63\" r=\"2\"/>\n",
       "<circle clip-path=\"url(#clip262)\" style=\"fill:#009af9; stroke:none; fill-opacity:0\" cx=\"848.527\" cy=\"1433.4\" r=\"2\"/>\n",
       "<circle clip-path=\"url(#clip262)\" style=\"fill:#009af9; stroke:none; fill-opacity:0\" cx=\"877.069\" cy=\"1444.93\" r=\"2\"/>\n",
       "<circle clip-path=\"url(#clip262)\" style=\"fill:#009af9; stroke:none; fill-opacity:0\" cx=\"905.611\" cy=\"1428.79\" r=\"2\"/>\n",
       "<circle clip-path=\"url(#clip262)\" style=\"fill:#009af9; stroke:none; fill-opacity:0\" cx=\"934.153\" cy=\"1417.26\" r=\"2\"/>\n",
       "<circle clip-path=\"url(#clip262)\" style=\"fill:#009af9; stroke:none; fill-opacity:0\" cx=\"962.695\" cy=\"1435.71\" r=\"2\"/>\n",
       "<circle clip-path=\"url(#clip262)\" style=\"fill:#009af9; stroke:none; fill-opacity:0\" cx=\"991.237\" cy=\"1403.42\" r=\"2\"/>\n",
       "<circle clip-path=\"url(#clip262)\" style=\"fill:#009af9; stroke:none; fill-opacity:0\" cx=\"1019.78\" cy=\"1405.72\" r=\"2\"/>\n",
       "<circle clip-path=\"url(#clip262)\" style=\"fill:#009af9; stroke:none; fill-opacity:0\" cx=\"1048.32\" cy=\"1398.8\" r=\"2\"/>\n",
       "<circle clip-path=\"url(#clip262)\" style=\"fill:#009af9; stroke:none; fill-opacity:0\" cx=\"1076.86\" cy=\"1391.88\" r=\"2\"/>\n",
       "<circle clip-path=\"url(#clip262)\" style=\"fill:#009af9; stroke:none; fill-opacity:0\" cx=\"1105.4\" cy=\"1373.43\" r=\"2\"/>\n",
       "<circle clip-path=\"url(#clip262)\" style=\"fill:#009af9; stroke:none; fill-opacity:0\" cx=\"1133.95\" cy=\"1378.05\" r=\"2\"/>\n",
       "<circle clip-path=\"url(#clip262)\" style=\"fill:#009af9; stroke:none; fill-opacity:0\" cx=\"1162.49\" cy=\"1371.13\" r=\"2\"/>\n",
       "<circle clip-path=\"url(#clip262)\" style=\"fill:#009af9; stroke:none; fill-opacity:0\" cx=\"1191.03\" cy=\"1334.22\" r=\"2\"/>\n",
       "<circle clip-path=\"url(#clip262)\" style=\"fill:#009af9; stroke:none; fill-opacity:0\" cx=\"1219.57\" cy=\"1329.61\" r=\"2\"/>\n",
       "<circle clip-path=\"url(#clip262)\" style=\"fill:#009af9; stroke:none; fill-opacity:0\" cx=\"1248.11\" cy=\"1290.4\" r=\"2\"/>\n",
       "<circle clip-path=\"url(#clip262)\" style=\"fill:#009af9; stroke:none; fill-opacity:0\" cx=\"1276.66\" cy=\"1230.44\" r=\"2\"/>\n",
       "<circle clip-path=\"url(#clip262)\" style=\"fill:#009af9; stroke:none; fill-opacity:0\" cx=\"1305.2\" cy=\"1260.42\" r=\"2\"/>\n",
       "<circle clip-path=\"url(#clip262)\" style=\"fill:#009af9; stroke:none; fill-opacity:0\" cx=\"1333.74\" cy=\"1205.07\" r=\"2\"/>\n",
       "<circle clip-path=\"url(#clip262)\" style=\"fill:#009af9; stroke:none; fill-opacity:0\" cx=\"1362.28\" cy=\"1209.68\" r=\"2\"/>\n",
       "<circle clip-path=\"url(#clip262)\" style=\"fill:#009af9; stroke:none; fill-opacity:0\" cx=\"1390.82\" cy=\"1108.2\" r=\"2\"/>\n",
       "<circle clip-path=\"url(#clip262)\" style=\"fill:#009af9; stroke:none; fill-opacity:0\" cx=\"1419.37\" cy=\"1112.81\" r=\"2\"/>\n",
       "<circle clip-path=\"url(#clip262)\" style=\"fill:#009af9; stroke:none; fill-opacity:0\" cx=\"1447.91\" cy=\"1092.05\" r=\"2\"/>\n",
       "<circle clip-path=\"url(#clip262)\" style=\"fill:#009af9; stroke:none; fill-opacity:0\" cx=\"1476.45\" cy=\"1022.86\" r=\"2\"/>\n",
       "<circle clip-path=\"url(#clip262)\" style=\"fill:#009af9; stroke:none; fill-opacity:0\" cx=\"1504.99\" cy=\"914.457\" r=\"2\"/>\n",
       "<circle clip-path=\"url(#clip262)\" style=\"fill:#009af9; stroke:none; fill-opacity:0\" cx=\"1533.53\" cy=\"872.941\" r=\"2\"/>\n",
       "<circle clip-path=\"url(#clip262)\" style=\"fill:#009af9; stroke:none; fill-opacity:0\" cx=\"1562.08\" cy=\"762.233\" r=\"2\"/>\n",
       "<circle clip-path=\"url(#clip262)\" style=\"fill:#009af9; stroke:none; fill-opacity:0\" cx=\"1590.62\" cy=\"644.606\" r=\"2\"/>\n",
       "<circle clip-path=\"url(#clip262)\" style=\"fill:#009af9; stroke:none; fill-opacity:0\" cx=\"1619.16\" cy=\"453.173\" r=\"2\"/>\n",
       "<circle clip-path=\"url(#clip262)\" style=\"fill:#009af9; stroke:none; fill-opacity:0\" cx=\"1647.7\" cy=\"478.544\" r=\"2\"/>\n",
       "<circle clip-path=\"url(#clip262)\" style=\"fill:#009af9; stroke:none; fill-opacity:0\" cx=\"1676.24\" cy=\"127.969\" r=\"2\"/>\n",
       "<circle clip-path=\"url(#clip262)\" style=\"fill:#009af9; stroke:none; fill-opacity:0\" cx=\"1704.79\" cy=\"97.9853\" r=\"2\"/>\n",
       "<circle clip-path=\"url(#clip262)\" style=\"fill:#009af9; stroke:none; fill-opacity:0\" cx=\"1733.33\" cy=\"107.211\" r=\"2\"/>\n",
       "<circle clip-path=\"url(#clip262)\" style=\"fill:#009af9; stroke:none; fill-opacity:0\" cx=\"1761.87\" cy=\"95.6788\" r=\"2\"/>\n",
       "<circle clip-path=\"url(#clip262)\" style=\"fill:#009af9; stroke:none; fill-opacity:0\" cx=\"1790.41\" cy=\"47.2441\" r=\"2\"/>\n",
       "<circle clip-path=\"url(#clip262)\" style=\"fill:#009af9; stroke:none; fill-opacity:0\" cx=\"1818.95\" cy=\"162.565\" r=\"2\"/>\n",
       "<circle clip-path=\"url(#clip262)\" style=\"fill:#009af9; stroke:none; fill-opacity:0\" cx=\"1847.5\" cy=\"372.449\" r=\"2\"/>\n",
       "<circle clip-path=\"url(#clip262)\" style=\"fill:#009af9; stroke:none; fill-opacity:0\" cx=\"1876.04\" cy=\"586.946\" r=\"2\"/>\n",
       "<circle clip-path=\"url(#clip262)\" style=\"fill:#009af9; stroke:none; fill-opacity:0\" cx=\"1904.58\" cy=\"819.894\" r=\"2\"/>\n",
       "<circle clip-path=\"url(#clip262)\" style=\"fill:#009af9; stroke:none; fill-opacity:0\" cx=\"1933.12\" cy=\"916.763\" r=\"2\"/>\n",
       "<circle clip-path=\"url(#clip262)\" style=\"fill:#009af9; stroke:none; fill-opacity:0\" cx=\"1961.66\" cy=\"879.86\" r=\"2\"/>\n",
       "<circle clip-path=\"url(#clip262)\" style=\"fill:#009af9; stroke:none; fill-opacity:0\" cx=\"1990.2\" cy=\"909.844\" r=\"2\"/>\n",
       "<circle clip-path=\"url(#clip262)\" style=\"fill:#009af9; stroke:none; fill-opacity:0\" cx=\"2018.75\" cy=\"923.682\" r=\"2\"/>\n",
       "<circle clip-path=\"url(#clip262)\" style=\"fill:#009af9; stroke:none; fill-opacity:0\" cx=\"2047.29\" cy=\"1098.97\" r=\"2\"/>\n",
       "<circle clip-path=\"url(#clip262)\" style=\"fill:#009af9; stroke:none; fill-opacity:0\" cx=\"2075.83\" cy=\"1288.1\" r=\"2\"/>\n",
       "<circle clip-path=\"url(#clip262)\" style=\"fill:#009af9; stroke:none; fill-opacity:0\" cx=\"2104.37\" cy=\"1428.79\" r=\"2\"/>\n",
       "<circle clip-path=\"url(#clip262)\" style=\"fill:#009af9; stroke:none; fill-opacity:0\" cx=\"2132.91\" cy=\"1465.69\" r=\"2\"/>\n",
       "<circle clip-path=\"url(#clip262)\" style=\"fill:#009af9; stroke:none; fill-opacity:0\" cx=\"2161.46\" cy=\"1479.53\" r=\"2\"/>\n",
       "<circle clip-path=\"url(#clip262)\" style=\"fill:#009af9; stroke:none; fill-opacity:0\" cx=\"2190\" cy=\"1486.45\" r=\"2\"/>\n",
       "<circle clip-path=\"url(#clip262)\" style=\"fill:#009af9; stroke:none; fill-opacity:0\" cx=\"2218.54\" cy=\"1484.14\" r=\"2\"/>\n",
       "<path clip-path=\"url(#clip260)\" d=\"M244.706 198.898 L515.211 198.898 L515.211 95.2176 L244.706 95.2176  Z\" fill=\"#ffffff\" fill-rule=\"evenodd\" fill-opacity=\"1\"/>\n",
       "<polyline clip-path=\"url(#clip260)\" style=\"stroke:#000000; stroke-linecap:round; stroke-linejoin:round; stroke-width:4; stroke-opacity:1; fill:none\" points=\"244.706,198.898 515.211,198.898 515.211,95.2176 244.706,95.2176 244.706,198.898 \"/>\n",
       "<path clip-path=\"url(#clip260)\" d=\"M268.937 167.794 L414.319 167.794 L414.319 126.322 L268.937 126.322 L268.937 167.794  Z\" fill=\"#009af9\" fill-rule=\"evenodd\" fill-opacity=\"1\"/>\n",
       "<polyline clip-path=\"url(#clip260)\" style=\"stroke:#000000; stroke-linecap:round; stroke-linejoin:round; stroke-width:4; stroke-opacity:1; fill:none\" points=\"268.937,167.794 414.319,167.794 414.319,126.322 268.937,126.322 268.937,167.794 \"/>\n",
       "<path clip-path=\"url(#clip260)\" d=\"M452.392 166.745 Q450.587 171.375 448.874 172.787 Q447.161 174.199 444.291 174.199 L440.888 174.199 L440.888 170.634 L443.388 170.634 Q445.147 170.634 446.119 169.8 Q447.091 168.967 448.272 165.865 L449.036 163.921 L438.55 138.412 L443.064 138.412 L451.166 158.689 L459.267 138.412 L463.781 138.412 L452.392 166.745 Z\" fill=\"#000000\" fill-rule=\"nonzero\" fill-opacity=\"1\" /><path clip-path=\"url(#clip260)\" d=\"M471.073 160.402 L478.712 160.402 L478.712 134.037 L470.402 135.703 L470.402 131.444 L478.665 129.778 L483.341 129.778 L483.341 160.402 L490.98 160.402 L490.98 164.338 L471.073 164.338 L471.073 160.402 Z\" fill=\"#000000\" fill-rule=\"nonzero\" fill-opacity=\"1\" /></svg>\n"
      ]
     },
     "execution_count": 119,
     "metadata": {},
     "output_type": "execute_result"
    }
   ],
   "source": [
    "plot(datapoints, seriestype=:hist)"
   ]
  },
  {
   "cell_type": "code",
   "execution_count": 120,
   "id": "64ed8f3e",
   "metadata": {},
   "outputs": [
    {
     "data": {
      "text/plain": [
       "0.06001613621528105"
      ]
     },
     "execution_count": 120,
     "metadata": {},
     "output_type": "execute_result"
    }
   ],
   "source": [
    "pdf(my_model, 40)"
   ]
  },
  {
   "cell_type": "markdown",
   "id": "22d82aed",
   "metadata": {},
   "source": [
    "The `datapoints` are used as proxi for a discretized function. The next section rescales the distribution day by day, so that for each \"future\" the total sums to 1."
   ]
  },
  {
   "cell_type": "code",
   "execution_count": 163,
   "id": "9f09c262",
   "metadata": {},
   "outputs": [],
   "source": [
    "day_datapoints = sort([ floor(Int, x) for x in datapoints]);"
   ]
  },
  {
   "cell_type": "code",
   "execution_count": 170,
   "id": "d5d08819",
   "metadata": {},
   "outputs": [
    {
     "data": {
      "text/plain": [
       "598"
      ]
     },
     "execution_count": 170,
     "metadata": {},
     "output_type": "execute_result"
    }
   ],
   "source": [
    "day_frequencies_0 = countmap(day_datapoints)\n",
    "day_frequencies_0[40]"
   ]
  },
  {
   "cell_type": "code",
   "execution_count": 189,
   "id": "73cc81e5",
   "metadata": {},
   "outputs": [
    {
     "name": "stdout",
     "output_type": "stream",
     "text": [
      "4991.652754590985 3338.8981636060103 1669.4490818030051\n",
      "10000.0\n"
     ]
    }
   ],
   "source": [
    "scale_factor = (10000/(598 + 400 + 200))\n",
    "sum1 = scale_factor*598\n",
    "sum2 = scale_factor*400\n",
    "sum3 = scale_factor*200\n",
    "println(sum1, ' ',sum2,' ', sum3)\n",
    "println(sum([sum1, sum2, sum3]))"
   ]
  },
  {
   "cell_type": "code",
   "execution_count": 194,
   "id": "cc2897c7",
   "metadata": {},
   "outputs": [
    {
     "data": {
      "text/plain": [
       "calc_chance_by_day (generic function with 1 method)"
      ]
     },
     "execution_count": 194,
     "metadata": {},
     "output_type": "execute_result"
    }
   ],
   "source": [
    "function calc_chance_by_day(today, day_datapoints)\n",
    "    day_datapoints_process = copy(day_datapoints)\n",
    "    # remove all elements until the current day\n",
    "    for day in minimum(day_datapoints_process):today-1\n",
    "        filter!(e->e≠day,day_datapoints_process)\n",
    "    end\n",
    "    # count the frequency of the remaining days\n",
    "    day_frequencies = countmap(day_datapoints_process)\n",
    "    # normalize to get the probability of giving birth that day\n",
    "    current_sum = sum(collect(values(day_frequencies)))\n",
    "    chance_by_day = day_frequencies[today] / current_sum\n",
    "    return chance_by_day\n",
    "end"
   ]
  },
  {
   "cell_type": "markdown",
   "id": "1c57700b",
   "metadata": {},
   "source": [
    "Feel free to try out calculating chance by day."
   ]
  },
  {
   "cell_type": "code",
   "execution_count": 200,
   "id": "2a7f355e",
   "metadata": {},
   "outputs": [
    {
     "data": {
      "text/plain": [
       "1.0"
      ]
     },
     "execution_count": 200,
     "metadata": {},
     "output_type": "execute_result"
    }
   ],
   "source": [
    "calc_chance_by_day(57, day_datapoints)"
   ]
  },
  {
   "cell_type": "code",
   "execution_count": 206,
   "id": "d4afd327",
   "metadata": {},
   "outputs": [],
   "source": [
    "all_days = [calc_chance_by_day(day, day_datapoints) for day in 0:55];\n",
    "append!(all_days, calc_chance_by_day(57, day_datapoints));"
   ]
  },
  {
   "cell_type": "code",
   "execution_count": 208,
   "id": "e406bc34",
   "metadata": {},
   "outputs": [
    {
     "data": {
      "image/svg+xml": [
       "<?xml version=\"1.0\" encoding=\"utf-8\"?>\n",
       "<svg xmlns=\"http://www.w3.org/2000/svg\" xmlns:xlink=\"http://www.w3.org/1999/xlink\" width=\"600\" height=\"400\" viewBox=\"0 0 2400 1600\">\n",
       "<defs>\n",
       "  <clipPath id=\"clip300\">\n",
       "    <rect x=\"0\" y=\"0\" width=\"2400\" height=\"1600\"/>\n",
       "  </clipPath>\n",
       "</defs>\n",
       "<path clip-path=\"url(#clip300)\" d=\"M0 1600 L2400 1600 L2400 0 L0 0  Z\" fill=\"#ffffff\" fill-rule=\"evenodd\" fill-opacity=\"1\"/>\n",
       "<defs>\n",
       "  <clipPath id=\"clip301\">\n",
       "    <rect x=\"480\" y=\"0\" width=\"1681\" height=\"1600\"/>\n",
       "  </clipPath>\n",
       "</defs>\n",
       "<path clip-path=\"url(#clip300)\" d=\"M186.274 1486.45 L2352.76 1486.45 L2352.76 47.2441 L186.274 47.2441  Z\" fill=\"#ffffff\" fill-rule=\"evenodd\" fill-opacity=\"1\"/>\n",
       "<defs>\n",
       "  <clipPath id=\"clip302\">\n",
       "    <rect x=\"186\" y=\"47\" width=\"2167\" height=\"1440\"/>\n",
       "  </clipPath>\n",
       "</defs>\n",
       "<polyline clip-path=\"url(#clip302)\" style=\"stroke:#000000; stroke-linecap:round; stroke-linejoin:round; stroke-width:2; stroke-opacity:0.1; fill:none\" points=\"211.092,1486.45 211.092,47.2441 \"/>\n",
       "<polyline clip-path=\"url(#clip302)\" style=\"stroke:#000000; stroke-linecap:round; stroke-linejoin:round; stroke-width:2; stroke-opacity:0.1; fill:none\" points=\"576.066,1486.45 576.066,47.2441 \"/>\n",
       "<polyline clip-path=\"url(#clip302)\" style=\"stroke:#000000; stroke-linecap:round; stroke-linejoin:round; stroke-width:2; stroke-opacity:0.1; fill:none\" points=\"941.039,1486.45 941.039,47.2441 \"/>\n",
       "<polyline clip-path=\"url(#clip302)\" style=\"stroke:#000000; stroke-linecap:round; stroke-linejoin:round; stroke-width:2; stroke-opacity:0.1; fill:none\" points=\"1306.01,1486.45 1306.01,47.2441 \"/>\n",
       "<polyline clip-path=\"url(#clip302)\" style=\"stroke:#000000; stroke-linecap:round; stroke-linejoin:round; stroke-width:2; stroke-opacity:0.1; fill:none\" points=\"1670.99,1486.45 1670.99,47.2441 \"/>\n",
       "<polyline clip-path=\"url(#clip302)\" style=\"stroke:#000000; stroke-linecap:round; stroke-linejoin:round; stroke-width:2; stroke-opacity:0.1; fill:none\" points=\"2035.96,1486.45 2035.96,47.2441 \"/>\n",
       "<polyline clip-path=\"url(#clip300)\" style=\"stroke:#000000; stroke-linecap:round; stroke-linejoin:round; stroke-width:4; stroke-opacity:1; fill:none\" points=\"186.274,1486.45 2352.76,1486.45 \"/>\n",
       "<polyline clip-path=\"url(#clip300)\" style=\"stroke:#000000; stroke-linecap:round; stroke-linejoin:round; stroke-width:4; stroke-opacity:1; fill:none\" points=\"211.092,1486.45 211.092,1467.55 \"/>\n",
       "<polyline clip-path=\"url(#clip300)\" style=\"stroke:#000000; stroke-linecap:round; stroke-linejoin:round; stroke-width:4; stroke-opacity:1; fill:none\" points=\"576.066,1486.45 576.066,1467.55 \"/>\n",
       "<polyline clip-path=\"url(#clip300)\" style=\"stroke:#000000; stroke-linecap:round; stroke-linejoin:round; stroke-width:4; stroke-opacity:1; fill:none\" points=\"941.039,1486.45 941.039,1467.55 \"/>\n",
       "<polyline clip-path=\"url(#clip300)\" style=\"stroke:#000000; stroke-linecap:round; stroke-linejoin:round; stroke-width:4; stroke-opacity:1; fill:none\" points=\"1306.01,1486.45 1306.01,1467.55 \"/>\n",
       "<polyline clip-path=\"url(#clip300)\" style=\"stroke:#000000; stroke-linecap:round; stroke-linejoin:round; stroke-width:4; stroke-opacity:1; fill:none\" points=\"1670.99,1486.45 1670.99,1467.55 \"/>\n",
       "<polyline clip-path=\"url(#clip300)\" style=\"stroke:#000000; stroke-linecap:round; stroke-linejoin:round; stroke-width:4; stroke-opacity:1; fill:none\" points=\"2035.96,1486.45 2035.96,1467.55 \"/>\n",
       "<path clip-path=\"url(#clip300)\" d=\"M211.092 1517.37 Q207.481 1517.37 205.652 1520.93 Q203.847 1524.47 203.847 1531.6 Q203.847 1538.71 205.652 1542.27 Q207.481 1545.82 211.092 1545.82 Q214.726 1545.82 216.532 1542.27 Q218.361 1538.71 218.361 1531.6 Q218.361 1524.47 216.532 1520.93 Q214.726 1517.37 211.092 1517.37 M211.092 1513.66 Q216.902 1513.66 219.958 1518.27 Q223.037 1522.85 223.037 1531.6 Q223.037 1540.33 219.958 1544.94 Q216.902 1549.52 211.092 1549.52 Q205.282 1549.52 202.203 1544.94 Q199.148 1540.33 199.148 1531.6 Q199.148 1522.85 202.203 1518.27 Q205.282 1513.66 211.092 1513.66 Z\" fill=\"#000000\" fill-rule=\"nonzero\" fill-opacity=\"1\" /><path clip-path=\"url(#clip300)\" d=\"M550.753 1544.91 L558.392 1544.91 L558.392 1518.55 L550.082 1520.21 L550.082 1515.95 L558.346 1514.29 L563.022 1514.29 L563.022 1544.91 L570.66 1544.91 L570.66 1548.85 L550.753 1548.85 L550.753 1544.91 Z\" fill=\"#000000\" fill-rule=\"nonzero\" fill-opacity=\"1\" /><path clip-path=\"url(#clip300)\" d=\"M590.105 1517.37 Q586.494 1517.37 584.665 1520.93 Q582.86 1524.47 582.86 1531.6 Q582.86 1538.71 584.665 1542.27 Q586.494 1545.82 590.105 1545.82 Q593.739 1545.82 595.545 1542.27 Q597.373 1538.71 597.373 1531.6 Q597.373 1524.47 595.545 1520.93 Q593.739 1517.37 590.105 1517.37 M590.105 1513.66 Q595.915 1513.66 598.971 1518.27 Q602.049 1522.85 602.049 1531.6 Q602.049 1540.33 598.971 1544.94 Q595.915 1549.52 590.105 1549.52 Q584.295 1549.52 581.216 1544.94 Q578.16 1540.33 578.16 1531.6 Q578.16 1522.85 581.216 1518.27 Q584.295 1513.66 590.105 1513.66 Z\" fill=\"#000000\" fill-rule=\"nonzero\" fill-opacity=\"1\" /><path clip-path=\"url(#clip300)\" d=\"M919.812 1544.91 L936.132 1544.91 L936.132 1548.85 L914.187 1548.85 L914.187 1544.91 Q916.849 1542.16 921.433 1537.53 Q926.039 1532.88 927.22 1531.53 Q929.465 1529.01 930.345 1527.27 Q931.247 1525.51 931.247 1523.82 Q931.247 1521.07 929.303 1519.33 Q927.382 1517.6 924.28 1517.6 Q922.081 1517.6 919.627 1518.36 Q917.196 1519.13 914.419 1520.68 L914.419 1515.95 Q917.243 1514.82 919.696 1514.24 Q922.15 1513.66 924.187 1513.66 Q929.558 1513.66 932.752 1516.35 Q935.946 1519.03 935.946 1523.52 Q935.946 1525.65 935.136 1527.57 Q934.349 1529.47 932.243 1532.07 Q931.664 1532.74 928.562 1535.95 Q925.46 1539.15 919.812 1544.91 Z\" fill=\"#000000\" fill-rule=\"nonzero\" fill-opacity=\"1\" /><path clip-path=\"url(#clip300)\" d=\"M955.946 1517.37 Q952.335 1517.37 950.506 1520.93 Q948.701 1524.47 948.701 1531.6 Q948.701 1538.71 950.506 1542.27 Q952.335 1545.82 955.946 1545.82 Q959.58 1545.82 961.386 1542.27 Q963.215 1538.71 963.215 1531.6 Q963.215 1524.47 961.386 1520.93 Q959.58 1517.37 955.946 1517.37 M955.946 1513.66 Q961.756 1513.66 964.812 1518.27 Q967.891 1522.85 967.891 1531.6 Q967.891 1540.33 964.812 1544.94 Q961.756 1549.52 955.946 1549.52 Q950.136 1549.52 947.057 1544.94 Q944.002 1540.33 944.002 1531.6 Q944.002 1522.85 947.057 1518.27 Q950.136 1513.66 955.946 1513.66 Z\" fill=\"#000000\" fill-rule=\"nonzero\" fill-opacity=\"1\" /><path clip-path=\"url(#clip300)\" d=\"M1294.85 1530.21 Q1298.21 1530.93 1300.09 1533.2 Q1301.98 1535.47 1301.98 1538.8 Q1301.98 1543.92 1298.47 1546.72 Q1294.95 1549.52 1288.47 1549.52 Q1286.29 1549.52 1283.98 1549.08 Q1281.68 1548.66 1279.23 1547.81 L1279.23 1543.29 Q1281.17 1544.43 1283.49 1545.01 Q1285.8 1545.58 1288.33 1545.58 Q1292.73 1545.58 1295.02 1543.85 Q1297.33 1542.11 1297.33 1538.8 Q1297.33 1535.75 1295.18 1534.03 Q1293.05 1532.3 1289.23 1532.3 L1285.2 1532.3 L1285.2 1528.45 L1289.42 1528.45 Q1292.86 1528.45 1294.69 1527.09 Q1296.52 1525.7 1296.52 1523.11 Q1296.52 1520.45 1294.62 1519.03 Q1292.75 1517.6 1289.23 1517.6 Q1287.31 1517.6 1285.11 1518.01 Q1282.91 1518.43 1280.27 1519.31 L1280.27 1515.14 Q1282.93 1514.4 1285.25 1514.03 Q1287.59 1513.66 1289.65 1513.66 Q1294.97 1513.66 1298.07 1516.09 Q1301.17 1518.5 1301.17 1522.62 Q1301.17 1525.49 1299.53 1527.48 Q1297.89 1529.45 1294.85 1530.21 Z\" fill=\"#000000\" fill-rule=\"nonzero\" fill-opacity=\"1\" /><path clip-path=\"url(#clip300)\" d=\"M1320.85 1517.37 Q1317.24 1517.37 1315.41 1520.93 Q1313.6 1524.47 1313.6 1531.6 Q1313.6 1538.71 1315.41 1542.27 Q1317.24 1545.82 1320.85 1545.82 Q1324.48 1545.82 1326.29 1542.27 Q1328.12 1538.71 1328.12 1531.6 Q1328.12 1524.47 1326.29 1520.93 Q1324.48 1517.37 1320.85 1517.37 M1320.85 1513.66 Q1326.66 1513.66 1329.72 1518.27 Q1332.79 1522.85 1332.79 1531.6 Q1332.79 1540.33 1329.72 1544.94 Q1326.66 1549.52 1320.85 1549.52 Q1315.04 1549.52 1311.96 1544.94 Q1308.91 1540.33 1308.91 1531.6 Q1308.91 1522.85 1311.96 1518.27 Q1315.04 1513.66 1320.85 1513.66 Z\" fill=\"#000000\" fill-rule=\"nonzero\" fill-opacity=\"1\" /><path clip-path=\"url(#clip300)\" d=\"M1659.16 1518.36 L1647.35 1536.81 L1659.16 1536.81 L1659.16 1518.36 M1657.93 1514.29 L1663.81 1514.29 L1663.81 1536.81 L1668.74 1536.81 L1668.74 1540.7 L1663.81 1540.7 L1663.81 1548.85 L1659.16 1548.85 L1659.16 1540.7 L1643.56 1540.7 L1643.56 1536.19 L1657.93 1514.29 Z\" fill=\"#000000\" fill-rule=\"nonzero\" fill-opacity=\"1\" /><path clip-path=\"url(#clip300)\" d=\"M1686.47 1517.37 Q1682.86 1517.37 1681.03 1520.93 Q1679.23 1524.47 1679.23 1531.6 Q1679.23 1538.71 1681.03 1542.27 Q1682.86 1545.82 1686.47 1545.82 Q1690.11 1545.82 1691.91 1542.27 Q1693.74 1538.71 1693.74 1531.6 Q1693.74 1524.47 1691.91 1520.93 Q1690.11 1517.37 1686.47 1517.37 M1686.47 1513.66 Q1692.28 1513.66 1695.34 1518.27 Q1698.42 1522.85 1698.42 1531.6 Q1698.42 1540.33 1695.34 1544.94 Q1692.28 1549.52 1686.47 1549.52 Q1680.66 1549.52 1677.58 1544.94 Q1674.53 1540.33 1674.53 1531.6 Q1674.53 1522.85 1677.58 1518.27 Q1680.66 1513.66 1686.47 1513.66 Z\" fill=\"#000000\" fill-rule=\"nonzero\" fill-opacity=\"1\" /><path clip-path=\"url(#clip300)\" d=\"M2010.66 1514.29 L2029.01 1514.29 L2029.01 1518.22 L2014.94 1518.22 L2014.94 1526.7 Q2015.96 1526.35 2016.98 1526.19 Q2018 1526 2019.01 1526 Q2024.8 1526 2028.18 1529.17 Q2031.56 1532.34 2031.56 1537.76 Q2031.56 1543.34 2028.09 1546.44 Q2024.62 1549.52 2018.3 1549.52 Q2016.12 1549.52 2013.85 1549.15 Q2011.61 1548.78 2009.2 1548.04 L2009.2 1543.34 Q2011.28 1544.47 2013.51 1545.03 Q2015.73 1545.58 2018.2 1545.58 Q2022.21 1545.58 2024.55 1543.48 Q2026.88 1541.37 2026.88 1537.76 Q2026.88 1534.15 2024.55 1532.04 Q2022.21 1529.94 2018.2 1529.94 Q2016.33 1529.94 2014.45 1530.35 Q2012.6 1530.77 2010.66 1531.65 L2010.66 1514.29 Z\" fill=\"#000000\" fill-rule=\"nonzero\" fill-opacity=\"1\" /><path clip-path=\"url(#clip300)\" d=\"M2050.77 1517.37 Q2047.16 1517.37 2045.33 1520.93 Q2043.53 1524.47 2043.53 1531.6 Q2043.53 1538.71 2045.33 1542.27 Q2047.16 1545.82 2050.77 1545.82 Q2054.41 1545.82 2056.21 1542.27 Q2058.04 1538.71 2058.04 1531.6 Q2058.04 1524.47 2056.21 1520.93 Q2054.41 1517.37 2050.77 1517.37 M2050.77 1513.66 Q2056.58 1513.66 2059.64 1518.27 Q2062.72 1522.85 2062.72 1531.6 Q2062.72 1540.33 2059.64 1544.94 Q2056.58 1549.52 2050.77 1549.52 Q2044.96 1549.52 2041.88 1544.94 Q2038.83 1540.33 2038.83 1531.6 Q2038.83 1522.85 2041.88 1518.27 Q2044.96 1513.66 2050.77 1513.66 Z\" fill=\"#000000\" fill-rule=\"nonzero\" fill-opacity=\"1\" /><polyline clip-path=\"url(#clip302)\" style=\"stroke:#000000; stroke-linecap:round; stroke-linejoin:round; stroke-width:2; stroke-opacity:0.1; fill:none\" points=\"186.274,1445.85 2352.76,1445.85 \"/>\n",
       "<polyline clip-path=\"url(#clip302)\" style=\"stroke:#000000; stroke-linecap:round; stroke-linejoin:round; stroke-width:2; stroke-opacity:0.1; fill:none\" points=\"186.274,1106.38 2352.76,1106.38 \"/>\n",
       "<polyline clip-path=\"url(#clip302)\" style=\"stroke:#000000; stroke-linecap:round; stroke-linejoin:round; stroke-width:2; stroke-opacity:0.1; fill:none\" points=\"186.274,766.914 2352.76,766.914 \"/>\n",
       "<polyline clip-path=\"url(#clip302)\" style=\"stroke:#000000; stroke-linecap:round; stroke-linejoin:round; stroke-width:2; stroke-opacity:0.1; fill:none\" points=\"186.274,427.445 2352.76,427.445 \"/>\n",
       "<polyline clip-path=\"url(#clip302)\" style=\"stroke:#000000; stroke-linecap:round; stroke-linejoin:round; stroke-width:2; stroke-opacity:0.1; fill:none\" points=\"186.274,87.9763 2352.76,87.9763 \"/>\n",
       "<polyline clip-path=\"url(#clip300)\" style=\"stroke:#000000; stroke-linecap:round; stroke-linejoin:round; stroke-width:4; stroke-opacity:1; fill:none\" points=\"186.274,1486.45 186.274,47.2441 \"/>\n",
       "<polyline clip-path=\"url(#clip300)\" style=\"stroke:#000000; stroke-linecap:round; stroke-linejoin:round; stroke-width:4; stroke-opacity:1; fill:none\" points=\"186.274,1445.85 205.172,1445.85 \"/>\n",
       "<polyline clip-path=\"url(#clip300)\" style=\"stroke:#000000; stroke-linecap:round; stroke-linejoin:round; stroke-width:4; stroke-opacity:1; fill:none\" points=\"186.274,1106.38 205.172,1106.38 \"/>\n",
       "<polyline clip-path=\"url(#clip300)\" style=\"stroke:#000000; stroke-linecap:round; stroke-linejoin:round; stroke-width:4; stroke-opacity:1; fill:none\" points=\"186.274,766.914 205.172,766.914 \"/>\n",
       "<polyline clip-path=\"url(#clip300)\" style=\"stroke:#000000; stroke-linecap:round; stroke-linejoin:round; stroke-width:4; stroke-opacity:1; fill:none\" points=\"186.274,427.445 205.172,427.445 \"/>\n",
       "<polyline clip-path=\"url(#clip300)\" style=\"stroke:#000000; stroke-linecap:round; stroke-linejoin:round; stroke-width:4; stroke-opacity:1; fill:none\" points=\"186.274,87.9763 205.172,87.9763 \"/>\n",
       "<path clip-path=\"url(#clip300)\" d=\"M62.9365 1431.65 Q59.3254 1431.65 57.4967 1435.22 Q55.6912 1438.76 55.6912 1445.89 Q55.6912 1452.99 57.4967 1456.56 Q59.3254 1460.1 62.9365 1460.1 Q66.5707 1460.1 68.3763 1456.56 Q70.205 1452.99 70.205 1445.89 Q70.205 1438.76 68.3763 1435.22 Q66.5707 1431.65 62.9365 1431.65 M62.9365 1427.95 Q68.7467 1427.95 71.8022 1432.55 Q74.8809 1437.14 74.8809 1445.89 Q74.8809 1454.61 71.8022 1459.22 Q68.7467 1463.8 62.9365 1463.8 Q57.1264 1463.8 54.0477 1459.22 Q50.9921 1454.61 50.9921 1445.89 Q50.9921 1437.14 54.0477 1432.55 Q57.1264 1427.95 62.9365 1427.95 Z\" fill=\"#000000\" fill-rule=\"nonzero\" fill-opacity=\"1\" /><path clip-path=\"url(#clip300)\" d=\"M83.0984 1457.25 L87.9827 1457.25 L87.9827 1463.13 L83.0984 1463.13 L83.0984 1457.25 Z\" fill=\"#000000\" fill-rule=\"nonzero\" fill-opacity=\"1\" /><path clip-path=\"url(#clip300)\" d=\"M108.168 1431.65 Q104.557 1431.65 102.728 1435.22 Q100.922 1438.76 100.922 1445.89 Q100.922 1452.99 102.728 1456.56 Q104.557 1460.1 108.168 1460.1 Q111.802 1460.1 113.608 1456.56 Q115.436 1452.99 115.436 1445.89 Q115.436 1438.76 113.608 1435.22 Q111.802 1431.65 108.168 1431.65 M108.168 1427.95 Q113.978 1427.95 117.033 1432.55 Q120.112 1437.14 120.112 1445.89 Q120.112 1454.61 117.033 1459.22 Q113.978 1463.8 108.168 1463.8 Q102.358 1463.8 99.2789 1459.22 Q96.2234 1454.61 96.2234 1445.89 Q96.2234 1437.14 99.2789 1432.55 Q102.358 1427.95 108.168 1427.95 Z\" fill=\"#000000\" fill-rule=\"nonzero\" fill-opacity=\"1\" /><path clip-path=\"url(#clip300)\" d=\"M138.33 1431.65 Q134.719 1431.65 132.89 1435.22 Q131.084 1438.76 131.084 1445.89 Q131.084 1452.99 132.89 1456.56 Q134.719 1460.1 138.33 1460.1 Q141.964 1460.1 143.769 1456.56 Q145.598 1452.99 145.598 1445.89 Q145.598 1438.76 143.769 1435.22 Q141.964 1431.65 138.33 1431.65 M138.33 1427.95 Q144.14 1427.95 147.195 1432.55 Q150.274 1437.14 150.274 1445.89 Q150.274 1454.61 147.195 1459.22 Q144.14 1463.8 138.33 1463.8 Q132.519 1463.8 129.441 1459.22 Q126.385 1454.61 126.385 1445.89 Q126.385 1437.14 129.441 1432.55 Q132.519 1427.95 138.33 1427.95 Z\" fill=\"#000000\" fill-rule=\"nonzero\" fill-opacity=\"1\" /><path clip-path=\"url(#clip300)\" d=\"M63.9319 1092.18 Q60.3208 1092.18 58.4921 1095.75 Q56.6865 1099.29 56.6865 1106.42 Q56.6865 1113.52 58.4921 1117.09 Q60.3208 1120.63 63.9319 1120.63 Q67.5661 1120.63 69.3717 1117.09 Q71.2004 1113.52 71.2004 1106.42 Q71.2004 1099.29 69.3717 1095.75 Q67.5661 1092.18 63.9319 1092.18 M63.9319 1088.48 Q69.742 1088.48 72.7976 1093.08 Q75.8763 1097.67 75.8763 1106.42 Q75.8763 1115.14 72.7976 1119.75 Q69.742 1124.33 63.9319 1124.33 Q58.1217 1124.33 55.043 1119.75 Q51.9875 1115.14 51.9875 1106.42 Q51.9875 1097.67 55.043 1093.08 Q58.1217 1088.48 63.9319 1088.48 Z\" fill=\"#000000\" fill-rule=\"nonzero\" fill-opacity=\"1\" /><path clip-path=\"url(#clip300)\" d=\"M84.0938 1117.78 L88.978 1117.78 L88.978 1123.66 L84.0938 1123.66 L84.0938 1117.78 Z\" fill=\"#000000\" fill-rule=\"nonzero\" fill-opacity=\"1\" /><path clip-path=\"url(#clip300)\" d=\"M103.191 1119.73 L119.51 1119.73 L119.51 1123.66 L97.566 1123.66 L97.566 1119.73 Q100.228 1116.97 104.811 1112.34 Q109.418 1107.69 110.598 1106.35 Q112.844 1103.83 113.723 1102.09 Q114.626 1100.33 114.626 1098.64 Q114.626 1095.89 112.682 1094.15 Q110.76 1092.41 107.658 1092.41 Q105.459 1092.41 103.006 1093.18 Q100.575 1093.94 97.7974 1095.49 L97.7974 1090.77 Q100.621 1089.64 103.075 1089.06 Q105.529 1088.48 107.566 1088.48 Q112.936 1088.48 116.131 1091.16 Q119.325 1093.85 119.325 1098.34 Q119.325 1100.47 118.515 1102.39 Q117.728 1104.29 115.621 1106.88 Q115.043 1107.55 111.941 1110.77 Q108.839 1113.96 103.191 1119.73 Z\" fill=\"#000000\" fill-rule=\"nonzero\" fill-opacity=\"1\" /><path clip-path=\"url(#clip300)\" d=\"M129.371 1089.1 L147.728 1089.1 L147.728 1093.04 L133.654 1093.04 L133.654 1101.51 Q134.672 1101.16 135.691 1101 Q136.709 1100.82 137.728 1100.82 Q143.515 1100.82 146.894 1103.99 Q150.274 1107.16 150.274 1112.57 Q150.274 1118.15 146.802 1121.26 Q143.33 1124.33 137.01 1124.33 Q134.834 1124.33 132.566 1123.96 Q130.32 1123.59 127.913 1122.85 L127.913 1118.15 Q129.996 1119.29 132.219 1119.84 Q134.441 1120.4 136.918 1120.4 Q140.922 1120.4 143.26 1118.29 Q145.598 1116.19 145.598 1112.57 Q145.598 1108.96 143.26 1106.86 Q140.922 1104.75 136.918 1104.75 Q135.043 1104.75 133.168 1105.17 Q131.316 1105.58 129.371 1106.46 L129.371 1089.1 Z\" fill=\"#000000\" fill-rule=\"nonzero\" fill-opacity=\"1\" /><path clip-path=\"url(#clip300)\" d=\"M62.9365 752.713 Q59.3254 752.713 57.4967 756.278 Q55.6912 759.819 55.6912 766.949 Q55.6912 774.055 57.4967 777.62 Q59.3254 781.162 62.9365 781.162 Q66.5707 781.162 68.3763 777.62 Q70.205 774.055 70.205 766.949 Q70.205 759.819 68.3763 756.278 Q66.5707 752.713 62.9365 752.713 M62.9365 749.009 Q68.7467 749.009 71.8022 753.615 Q74.8809 758.199 74.8809 766.949 Q74.8809 775.676 71.8022 780.282 Q68.7467 784.865 62.9365 784.865 Q57.1264 784.865 54.0477 780.282 Q50.9921 775.676 50.9921 766.949 Q50.9921 758.199 54.0477 753.615 Q57.1264 749.009 62.9365 749.009 Z\" fill=\"#000000\" fill-rule=\"nonzero\" fill-opacity=\"1\" /><path clip-path=\"url(#clip300)\" d=\"M83.0984 778.314 L87.9827 778.314 L87.9827 784.194 L83.0984 784.194 L83.0984 778.314 Z\" fill=\"#000000\" fill-rule=\"nonzero\" fill-opacity=\"1\" /><path clip-path=\"url(#clip300)\" d=\"M98.2141 749.634 L116.57 749.634 L116.57 753.569 L102.496 753.569 L102.496 762.041 Q103.515 761.694 104.534 761.532 Q105.552 761.347 106.571 761.347 Q112.358 761.347 115.737 764.518 Q119.117 767.689 119.117 773.106 Q119.117 778.685 115.645 781.787 Q112.172 784.865 105.853 784.865 Q103.677 784.865 101.409 784.495 Q99.1632 784.125 96.7558 783.384 L96.7558 778.685 Q98.8391 779.819 101.061 780.375 Q103.284 780.93 105.76 780.93 Q109.765 780.93 112.103 778.824 Q114.441 776.717 114.441 773.106 Q114.441 769.495 112.103 767.389 Q109.765 765.282 105.76 765.282 Q103.885 765.282 102.01 765.699 Q100.159 766.115 98.2141 766.995 L98.2141 749.634 Z\" fill=\"#000000\" fill-rule=\"nonzero\" fill-opacity=\"1\" /><path clip-path=\"url(#clip300)\" d=\"M138.33 752.713 Q134.719 752.713 132.89 756.278 Q131.084 759.819 131.084 766.949 Q131.084 774.055 132.89 777.62 Q134.719 781.162 138.33 781.162 Q141.964 781.162 143.769 777.62 Q145.598 774.055 145.598 766.949 Q145.598 759.819 143.769 756.278 Q141.964 752.713 138.33 752.713 M138.33 749.009 Q144.14 749.009 147.195 753.615 Q150.274 758.199 150.274 766.949 Q150.274 775.676 147.195 780.282 Q144.14 784.865 138.33 784.865 Q132.519 784.865 129.441 780.282 Q126.385 775.676 126.385 766.949 Q126.385 758.199 129.441 753.615 Q132.519 749.009 138.33 749.009 Z\" fill=\"#000000\" fill-rule=\"nonzero\" fill-opacity=\"1\" /><path clip-path=\"url(#clip300)\" d=\"M63.9319 413.244 Q60.3208 413.244 58.4921 416.809 Q56.6865 420.35 56.6865 427.48 Q56.6865 434.586 58.4921 438.151 Q60.3208 441.693 63.9319 441.693 Q67.5661 441.693 69.3717 438.151 Q71.2004 434.586 71.2004 427.48 Q71.2004 420.35 69.3717 416.809 Q67.5661 413.244 63.9319 413.244 M63.9319 409.54 Q69.742 409.54 72.7976 414.147 Q75.8763 418.73 75.8763 427.48 Q75.8763 436.207 72.7976 440.813 Q69.742 445.396 63.9319 445.396 Q58.1217 445.396 55.043 440.813 Q51.9875 436.207 51.9875 427.48 Q51.9875 418.73 55.043 414.147 Q58.1217 409.54 63.9319 409.54 Z\" fill=\"#000000\" fill-rule=\"nonzero\" fill-opacity=\"1\" /><path clip-path=\"url(#clip300)\" d=\"M84.0938 438.846 L88.978 438.846 L88.978 444.725 L84.0938 444.725 L84.0938 438.846 Z\" fill=\"#000000\" fill-rule=\"nonzero\" fill-opacity=\"1\" /><path clip-path=\"url(#clip300)\" d=\"M97.9826 410.165 L120.205 410.165 L120.205 412.156 L107.658 444.725 L102.774 444.725 L114.58 414.1 L97.9826 414.1 L97.9826 410.165 Z\" fill=\"#000000\" fill-rule=\"nonzero\" fill-opacity=\"1\" /><path clip-path=\"url(#clip300)\" d=\"M129.371 410.165 L147.728 410.165 L147.728 414.1 L133.654 414.1 L133.654 422.572 Q134.672 422.225 135.691 422.063 Q136.709 421.878 137.728 421.878 Q143.515 421.878 146.894 425.049 Q150.274 428.221 150.274 433.637 Q150.274 439.216 146.802 442.318 Q143.33 445.396 137.01 445.396 Q134.834 445.396 132.566 445.026 Q130.32 444.656 127.913 443.915 L127.913 439.216 Q129.996 440.35 132.219 440.906 Q134.441 441.461 136.918 441.461 Q140.922 441.461 143.26 439.355 Q145.598 437.248 145.598 433.637 Q145.598 430.026 143.26 427.92 Q140.922 425.813 136.918 425.813 Q135.043 425.813 133.168 426.23 Q131.316 426.647 129.371 427.526 L129.371 410.165 Z\" fill=\"#000000\" fill-rule=\"nonzero\" fill-opacity=\"1\" /><path clip-path=\"url(#clip300)\" d=\"M53.7467 101.321 L61.3856 101.321 L61.3856 74.9555 L53.0754 76.6222 L53.0754 72.3629 L61.3393 70.6963 L66.0152 70.6963 L66.0152 101.321 L73.654 101.321 L73.654 105.256 L53.7467 105.256 L53.7467 101.321 Z\" fill=\"#000000\" fill-rule=\"nonzero\" fill-opacity=\"1\" /><path clip-path=\"url(#clip300)\" d=\"M83.0984 99.3767 L87.9827 99.3767 L87.9827 105.256 L83.0984 105.256 L83.0984 99.3767 Z\" fill=\"#000000\" fill-rule=\"nonzero\" fill-opacity=\"1\" /><path clip-path=\"url(#clip300)\" d=\"M108.168 73.775 Q104.557 73.775 102.728 77.3398 Q100.922 80.8814 100.922 88.011 Q100.922 95.1174 102.728 98.6822 Q104.557 102.224 108.168 102.224 Q111.802 102.224 113.608 98.6822 Q115.436 95.1174 115.436 88.011 Q115.436 80.8814 113.608 77.3398 Q111.802 73.775 108.168 73.775 M108.168 70.0713 Q113.978 70.0713 117.033 74.6777 Q120.112 79.261 120.112 88.011 Q120.112 96.7378 117.033 101.344 Q113.978 105.928 108.168 105.928 Q102.358 105.928 99.2789 101.344 Q96.2234 96.7378 96.2234 88.011 Q96.2234 79.261 99.2789 74.6777 Q102.358 70.0713 108.168 70.0713 Z\" fill=\"#000000\" fill-rule=\"nonzero\" fill-opacity=\"1\" /><path clip-path=\"url(#clip300)\" d=\"M138.33 73.775 Q134.719 73.775 132.89 77.3398 Q131.084 80.8814 131.084 88.011 Q131.084 95.1174 132.89 98.6822 Q134.719 102.224 138.33 102.224 Q141.964 102.224 143.769 98.6822 Q145.598 95.1174 145.598 88.011 Q145.598 80.8814 143.769 77.3398 Q141.964 73.775 138.33 73.775 M138.33 70.0713 Q144.14 70.0713 147.195 74.6777 Q150.274 79.261 150.274 88.011 Q150.274 96.7378 147.195 101.344 Q144.14 105.928 138.33 105.928 Q132.519 105.928 129.441 101.344 Q126.385 96.7378 126.385 88.011 Q126.385 79.261 129.441 74.6777 Q132.519 70.0713 138.33 70.0713 Z\" fill=\"#000000\" fill-rule=\"nonzero\" fill-opacity=\"1\" /><circle clip-path=\"url(#clip302)\" cx=\"247.59\" cy=\"1445.17\" r=\"14.4\" fill=\"#009af9\" fill-rule=\"evenodd\" fill-opacity=\"1\" stroke=\"#000000\" stroke-opacity=\"1\" stroke-width=\"3.2\"/>\n",
       "<circle clip-path=\"url(#clip302)\" cx=\"284.087\" cy=\"1445.72\" r=\"14.4\" fill=\"#009af9\" fill-rule=\"evenodd\" fill-opacity=\"1\" stroke=\"#000000\" stroke-opacity=\"1\" stroke-width=\"3.2\"/>\n",
       "<circle clip-path=\"url(#clip302)\" cx=\"320.584\" cy=\"1445.31\" r=\"14.4\" fill=\"#009af9\" fill-rule=\"evenodd\" fill-opacity=\"1\" stroke=\"#000000\" stroke-opacity=\"1\" stroke-width=\"3.2\"/>\n",
       "<circle clip-path=\"url(#clip302)\" cx=\"357.082\" cy=\"1445.03\" r=\"14.4\" fill=\"#009af9\" fill-rule=\"evenodd\" fill-opacity=\"1\" stroke=\"#000000\" stroke-opacity=\"1\" stroke-width=\"3.2\"/>\n",
       "<circle clip-path=\"url(#clip302)\" cx=\"393.579\" cy=\"1444.9\" r=\"14.4\" fill=\"#009af9\" fill-rule=\"evenodd\" fill-opacity=\"1\" stroke=\"#000000\" stroke-opacity=\"1\" stroke-width=\"3.2\"/>\n",
       "<circle clip-path=\"url(#clip302)\" cx=\"430.076\" cy=\"1444.76\" r=\"14.4\" fill=\"#009af9\" fill-rule=\"evenodd\" fill-opacity=\"1\" stroke=\"#000000\" stroke-opacity=\"1\" stroke-width=\"3.2\"/>\n",
       "<circle clip-path=\"url(#clip302)\" cx=\"466.574\" cy=\"1444.21\" r=\"14.4\" fill=\"#009af9\" fill-rule=\"evenodd\" fill-opacity=\"1\" stroke=\"#000000\" stroke-opacity=\"1\" stroke-width=\"3.2\"/>\n",
       "<circle clip-path=\"url(#clip302)\" cx=\"503.071\" cy=\"1444.08\" r=\"14.4\" fill=\"#009af9\" fill-rule=\"evenodd\" fill-opacity=\"1\" stroke=\"#000000\" stroke-opacity=\"1\" stroke-width=\"3.2\"/>\n",
       "<circle clip-path=\"url(#clip302)\" cx=\"539.568\" cy=\"1443.25\" r=\"14.4\" fill=\"#009af9\" fill-rule=\"evenodd\" fill-opacity=\"1\" stroke=\"#000000\" stroke-opacity=\"1\" stroke-width=\"3.2\"/>\n",
       "<circle clip-path=\"url(#clip302)\" cx=\"576.066\" cy=\"1442.7\" r=\"14.4\" fill=\"#009af9\" fill-rule=\"evenodd\" fill-opacity=\"1\" stroke=\"#000000\" stroke-opacity=\"1\" stroke-width=\"3.2\"/>\n",
       "<circle clip-path=\"url(#clip302)\" cx=\"612.563\" cy=\"1443.38\" r=\"14.4\" fill=\"#009af9\" fill-rule=\"evenodd\" fill-opacity=\"1\" stroke=\"#000000\" stroke-opacity=\"1\" stroke-width=\"3.2\"/>\n",
       "<circle clip-path=\"url(#clip302)\" cx=\"649.06\" cy=\"1442.41\" r=\"14.4\" fill=\"#009af9\" fill-rule=\"evenodd\" fill-opacity=\"1\" stroke=\"#000000\" stroke-opacity=\"1\" stroke-width=\"3.2\"/>\n",
       "<circle clip-path=\"url(#clip302)\" cx=\"685.558\" cy=\"1441.71\" r=\"14.4\" fill=\"#009af9\" fill-rule=\"evenodd\" fill-opacity=\"1\" stroke=\"#000000\" stroke-opacity=\"1\" stroke-width=\"3.2\"/>\n",
       "<circle clip-path=\"url(#clip302)\" cx=\"722.055\" cy=\"1442.81\" r=\"14.4\" fill=\"#009af9\" fill-rule=\"evenodd\" fill-opacity=\"1\" stroke=\"#000000\" stroke-opacity=\"1\" stroke-width=\"3.2\"/>\n",
       "<circle clip-path=\"url(#clip302)\" cx=\"758.552\" cy=\"1440.86\" r=\"14.4\" fill=\"#009af9\" fill-rule=\"evenodd\" fill-opacity=\"1\" stroke=\"#000000\" stroke-opacity=\"1\" stroke-width=\"3.2\"/>\n",
       "<circle clip-path=\"url(#clip302)\" cx=\"795.05\" cy=\"1440.98\" r=\"14.4\" fill=\"#009af9\" fill-rule=\"evenodd\" fill-opacity=\"1\" stroke=\"#000000\" stroke-opacity=\"1\" stroke-width=\"3.2\"/>\n",
       "<circle clip-path=\"url(#clip302)\" cx=\"831.547\" cy=\"1440.54\" r=\"14.4\" fill=\"#009af9\" fill-rule=\"evenodd\" fill-opacity=\"1\" stroke=\"#000000\" stroke-opacity=\"1\" stroke-width=\"3.2\"/>\n",
       "<circle clip-path=\"url(#clip302)\" cx=\"868.044\" cy=\"1440.1\" r=\"14.4\" fill=\"#009af9\" fill-rule=\"evenodd\" fill-opacity=\"1\" stroke=\"#000000\" stroke-opacity=\"1\" stroke-width=\"3.2\"/>\n",
       "<circle clip-path=\"url(#clip302)\" cx=\"904.542\" cy=\"1438.95\" r=\"14.4\" fill=\"#009af9\" fill-rule=\"evenodd\" fill-opacity=\"1\" stroke=\"#000000\" stroke-opacity=\"1\" stroke-width=\"3.2\"/>\n",
       "<circle clip-path=\"url(#clip302)\" cx=\"941.039\" cy=\"1439.2\" r=\"14.4\" fill=\"#009af9\" fill-rule=\"evenodd\" fill-opacity=\"1\" stroke=\"#000000\" stroke-opacity=\"1\" stroke-width=\"3.2\"/>\n",
       "<circle clip-path=\"url(#clip302)\" cx=\"977.536\" cy=\"1438.74\" r=\"14.4\" fill=\"#009af9\" fill-rule=\"evenodd\" fill-opacity=\"1\" stroke=\"#000000\" stroke-opacity=\"1\" stroke-width=\"3.2\"/>\n",
       "<circle clip-path=\"url(#clip302)\" cx=\"1014.03\" cy=\"1436.41\" r=\"14.4\" fill=\"#009af9\" fill-rule=\"evenodd\" fill-opacity=\"1\" stroke=\"#000000\" stroke-opacity=\"1\" stroke-width=\"3.2\"/>\n",
       "<circle clip-path=\"url(#clip302)\" cx=\"1050.53\" cy=\"1436.06\" r=\"14.4\" fill=\"#009af9\" fill-rule=\"evenodd\" fill-opacity=\"1\" stroke=\"#000000\" stroke-opacity=\"1\" stroke-width=\"3.2\"/>\n",
       "<circle clip-path=\"url(#clip302)\" cx=\"1087.03\" cy=\"1433.52\" r=\"14.4\" fill=\"#009af9\" fill-rule=\"evenodd\" fill-opacity=\"1\" stroke=\"#000000\" stroke-opacity=\"1\" stroke-width=\"3.2\"/>\n",
       "<circle clip-path=\"url(#clip302)\" cx=\"1123.53\" cy=\"1429.6\" r=\"14.4\" fill=\"#009af9\" fill-rule=\"evenodd\" fill-opacity=\"1\" stroke=\"#000000\" stroke-opacity=\"1\" stroke-width=\"3.2\"/>\n",
       "<circle clip-path=\"url(#clip302)\" cx=\"1160.02\" cy=\"1431.33\" r=\"14.4\" fill=\"#009af9\" fill-rule=\"evenodd\" fill-opacity=\"1\" stroke=\"#000000\" stroke-opacity=\"1\" stroke-width=\"3.2\"/>\n",
       "<circle clip-path=\"url(#clip302)\" cx=\"1196.52\" cy=\"1427.58\" r=\"14.4\" fill=\"#009af9\" fill-rule=\"evenodd\" fill-opacity=\"1\" stroke=\"#000000\" stroke-opacity=\"1\" stroke-width=\"3.2\"/>\n",
       "<circle clip-path=\"url(#clip302)\" cx=\"1233.02\" cy=\"1427.63\" r=\"14.4\" fill=\"#009af9\" fill-rule=\"evenodd\" fill-opacity=\"1\" stroke=\"#000000\" stroke-opacity=\"1\" stroke-width=\"3.2\"/>\n",
       "<circle clip-path=\"url(#clip302)\" cx=\"1269.51\" cy=\"1420.61\" r=\"14.4\" fill=\"#009af9\" fill-rule=\"evenodd\" fill-opacity=\"1\" stroke=\"#000000\" stroke-opacity=\"1\" stroke-width=\"3.2\"/>\n",
       "<circle clip-path=\"url(#clip302)\" cx=\"1306.01\" cy=\"1420.45\" r=\"14.4\" fill=\"#009af9\" fill-rule=\"evenodd\" fill-opacity=\"1\" stroke=\"#000000\" stroke-opacity=\"1\" stroke-width=\"3.2\"/>\n",
       "<circle clip-path=\"url(#clip302)\" cx=\"1342.51\" cy=\"1418.53\" r=\"14.4\" fill=\"#009af9\" fill-rule=\"evenodd\" fill-opacity=\"1\" stroke=\"#000000\" stroke-opacity=\"1\" stroke-width=\"3.2\"/>\n",
       "<circle clip-path=\"url(#clip302)\" cx=\"1379.01\" cy=\"1413.07\" r=\"14.4\" fill=\"#009af9\" fill-rule=\"evenodd\" fill-opacity=\"1\" stroke=\"#000000\" stroke-opacity=\"1\" stroke-width=\"3.2\"/>\n",
       "<circle clip-path=\"url(#clip302)\" cx=\"1415.5\" cy=\"1404.41\" r=\"14.4\" fill=\"#009af9\" fill-rule=\"evenodd\" fill-opacity=\"1\" stroke=\"#000000\" stroke-opacity=\"1\" stroke-width=\"3.2\"/>\n",
       "<circle clip-path=\"url(#clip302)\" cx=\"1452\" cy=\"1400\" r=\"14.4\" fill=\"#009af9\" fill-rule=\"evenodd\" fill-opacity=\"1\" stroke=\"#000000\" stroke-opacity=\"1\" stroke-width=\"3.2\"/>\n",
       "<circle clip-path=\"url(#clip302)\" cx=\"1488.5\" cy=\"1389.84\" r=\"14.4\" fill=\"#009af9\" fill-rule=\"evenodd\" fill-opacity=\"1\" stroke=\"#000000\" stroke-opacity=\"1\" stroke-width=\"3.2\"/>\n",
       "<circle clip-path=\"url(#clip302)\" cx=\"1525\" cy=\"1377.94\" r=\"14.4\" fill=\"#009af9\" fill-rule=\"evenodd\" fill-opacity=\"1\" stroke=\"#000000\" stroke-opacity=\"1\" stroke-width=\"3.2\"/>\n",
       "<circle clip-path=\"url(#clip302)\" cx=\"1561.49\" cy=\"1358.11\" r=\"14.4\" fill=\"#009af9\" fill-rule=\"evenodd\" fill-opacity=\"1\" stroke=\"#000000\" stroke-opacity=\"1\" stroke-width=\"3.2\"/>\n",
       "<circle clip-path=\"url(#clip302)\" cx=\"1597.99\" cy=\"1354.35\" r=\"14.4\" fill=\"#009af9\" fill-rule=\"evenodd\" fill-opacity=\"1\" stroke=\"#000000\" stroke-opacity=\"1\" stroke-width=\"3.2\"/>\n",
       "<circle clip-path=\"url(#clip302)\" cx=\"1634.49\" cy=\"1313.61\" r=\"14.4\" fill=\"#009af9\" fill-rule=\"evenodd\" fill-opacity=\"1\" stroke=\"#000000\" stroke-opacity=\"1\" stroke-width=\"3.2\"/>\n",
       "<circle clip-path=\"url(#clip302)\" cx=\"1670.99\" cy=\"1296.11\" r=\"14.4\" fill=\"#009af9\" fill-rule=\"evenodd\" fill-opacity=\"1\" stroke=\"#000000\" stroke-opacity=\"1\" stroke-width=\"3.2\"/>\n",
       "<circle clip-path=\"url(#clip302)\" cx=\"1707.48\" cy=\"1278.67\" r=\"14.4\" fill=\"#009af9\" fill-rule=\"evenodd\" fill-opacity=\"1\" stroke=\"#000000\" stroke-opacity=\"1\" stroke-width=\"3.2\"/>\n",
       "<circle clip-path=\"url(#clip302)\" cx=\"1743.98\" cy=\"1253.6\" r=\"14.4\" fill=\"#009af9\" fill-rule=\"evenodd\" fill-opacity=\"1\" stroke=\"#000000\" stroke-opacity=\"1\" stroke-width=\"3.2\"/>\n",
       "<circle clip-path=\"url(#clip302)\" cx=\"1780.48\" cy=\"1214.09\" r=\"14.4\" fill=\"#009af9\" fill-rule=\"evenodd\" fill-opacity=\"1\" stroke=\"#000000\" stroke-opacity=\"1\" stroke-width=\"3.2\"/>\n",
       "<circle clip-path=\"url(#clip302)\" cx=\"1816.98\" cy=\"1188.79\" r=\"14.4\" fill=\"#009af9\" fill-rule=\"evenodd\" fill-opacity=\"1\" stroke=\"#000000\" stroke-opacity=\"1\" stroke-width=\"3.2\"/>\n",
       "<circle clip-path=\"url(#clip302)\" cx=\"1853.47\" cy=\"1179.03\" r=\"14.4\" fill=\"#009af9\" fill-rule=\"evenodd\" fill-opacity=\"1\" stroke=\"#000000\" stroke-opacity=\"1\" stroke-width=\"3.2\"/>\n",
       "<circle clip-path=\"url(#clip302)\" cx=\"1889.97\" cy=\"1177.71\" r=\"14.4\" fill=\"#009af9\" fill-rule=\"evenodd\" fill-opacity=\"1\" stroke=\"#000000\" stroke-opacity=\"1\" stroke-width=\"3.2\"/>\n",
       "<circle clip-path=\"url(#clip302)\" cx=\"1926.47\" cy=\"1198.26\" r=\"14.4\" fill=\"#009af9\" fill-rule=\"evenodd\" fill-opacity=\"1\" stroke=\"#000000\" stroke-opacity=\"1\" stroke-width=\"3.2\"/>\n",
       "<circle clip-path=\"url(#clip302)\" cx=\"1962.96\" cy=\"1187.06\" r=\"14.4\" fill=\"#009af9\" fill-rule=\"evenodd\" fill-opacity=\"1\" stroke=\"#000000\" stroke-opacity=\"1\" stroke-width=\"3.2\"/>\n",
       "<circle clip-path=\"url(#clip302)\" cx=\"1999.46\" cy=\"1105.41\" r=\"14.4\" fill=\"#009af9\" fill-rule=\"evenodd\" fill-opacity=\"1\" stroke=\"#000000\" stroke-opacity=\"1\" stroke-width=\"3.2\"/>\n",
       "<circle clip-path=\"url(#clip302)\" cx=\"2035.96\" cy=\"1013.96\" r=\"14.4\" fill=\"#009af9\" fill-rule=\"evenodd\" fill-opacity=\"1\" stroke=\"#000000\" stroke-opacity=\"1\" stroke-width=\"3.2\"/>\n",
       "<circle clip-path=\"url(#clip302)\" cx=\"2072.46\" cy=\"827.714\" r=\"14.4\" fill=\"#009af9\" fill-rule=\"evenodd\" fill-opacity=\"1\" stroke=\"#000000\" stroke-opacity=\"1\" stroke-width=\"3.2\"/>\n",
       "<circle clip-path=\"url(#clip302)\" cx=\"2108.95\" cy=\"664.608\" r=\"14.4\" fill=\"#009af9\" fill-rule=\"evenodd\" fill-opacity=\"1\" stroke=\"#000000\" stroke-opacity=\"1\" stroke-width=\"3.2\"/>\n",
       "<circle clip-path=\"url(#clip302)\" cx=\"2145.45\" cy=\"504.099\" r=\"14.4\" fill=\"#009af9\" fill-rule=\"evenodd\" fill-opacity=\"1\" stroke=\"#000000\" stroke-opacity=\"1\" stroke-width=\"3.2\"/>\n",
       "<circle clip-path=\"url(#clip302)\" cx=\"2181.95\" cy=\"552.513\" r=\"14.4\" fill=\"#009af9\" fill-rule=\"evenodd\" fill-opacity=\"1\" stroke=\"#000000\" stroke-opacity=\"1\" stroke-width=\"3.2\"/>\n",
       "<circle clip-path=\"url(#clip302)\" cx=\"2218.45\" cy=\"505.784\" r=\"14.4\" fill=\"#009af9\" fill-rule=\"evenodd\" fill-opacity=\"1\" stroke=\"#000000\" stroke-opacity=\"1\" stroke-width=\"3.2\"/>\n",
       "<circle clip-path=\"url(#clip302)\" cx=\"2254.94\" cy=\"427.445\" r=\"14.4\" fill=\"#009af9\" fill-rule=\"evenodd\" fill-opacity=\"1\" stroke=\"#000000\" stroke-opacity=\"1\" stroke-width=\"3.2\"/>\n",
       "<circle clip-path=\"url(#clip302)\" cx=\"2291.44\" cy=\"87.9763\" r=\"14.4\" fill=\"#009af9\" fill-rule=\"evenodd\" fill-opacity=\"1\" stroke=\"#000000\" stroke-opacity=\"1\" stroke-width=\"3.2\"/>\n",
       "<path clip-path=\"url(#clip300)\" d=\"M258.49 198.898 L527.569 198.898 L527.569 95.2176 L258.49 95.2176  Z\" fill=\"#ffffff\" fill-rule=\"evenodd\" fill-opacity=\"1\"/>\n",
       "<polyline clip-path=\"url(#clip300)\" style=\"stroke:#000000; stroke-linecap:round; stroke-linejoin:round; stroke-width:4; stroke-opacity:1; fill:none\" points=\"258.49,198.898 527.569,198.898 527.569,95.2176 258.49,95.2176 258.49,198.898 \"/>\n",
       "<circle clip-path=\"url(#clip300)\" cx=\"354.778\" cy=\"147.058\" r=\"20.48\" fill=\"#009af9\" fill-rule=\"evenodd\" fill-opacity=\"1\" stroke=\"#000000\" stroke-opacity=\"1\" stroke-width=\"4.55111\"/>\n",
       "<path clip-path=\"url(#clip300)\" d=\"M464.909 166.745 Q463.103 171.375 461.39 172.787 Q459.677 174.199 456.807 174.199 L453.404 174.199 L453.404 170.634 L455.904 170.634 Q457.663 170.634 458.636 169.8 Q459.608 168.967 460.788 165.865 L461.552 163.921 L451.066 138.412 L455.58 138.412 L463.682 158.689 L471.784 138.412 L476.298 138.412 L464.909 166.745 Z\" fill=\"#000000\" fill-rule=\"nonzero\" fill-opacity=\"1\" /><path clip-path=\"url(#clip300)\" d=\"M483.589 160.402 L491.228 160.402 L491.228 134.037 L482.918 135.703 L482.918 131.444 L491.182 129.778 L495.858 129.778 L495.858 160.402 L503.497 160.402 L503.497 164.338 L483.589 164.338 L483.589 160.402 Z\" fill=\"#000000\" fill-rule=\"nonzero\" fill-opacity=\"1\" /></svg>\n"
      ]
     },
     "execution_count": 208,
     "metadata": {},
     "output_type": "execute_result"
    }
   ],
   "source": [
    "plot(all_days, seriestype=:scatter)"
   ]
  }
 ],
 "metadata": {
  "kernelspec": {
   "display_name": "Julia 1.9.2",
   "language": "julia",
   "name": "julia-1.9"
  },
  "language_info": {
   "file_extension": ".jl",
   "mimetype": "application/julia",
   "name": "julia",
   "version": "1.9.2"
  }
 },
 "nbformat": 4,
 "nbformat_minor": 5
}
